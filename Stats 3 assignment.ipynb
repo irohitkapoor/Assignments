{
 "cells": [
  {
   "cell_type": "code",
   "execution_count": 1,
   "metadata": {},
   "outputs": [],
   "source": [
    "import numpy as np\n",
    "import scipy.stats as stats\n",
    "import pandas as pd"
   ]
  },
  {
   "cell_type": "markdown",
   "metadata": {},
   "source": [
    "# Problem 1"
   ]
  },
  {
   "cell_type": "code",
   "execution_count": 5,
   "metadata": {},
   "outputs": [
    {
     "name": "stdout",
     "output_type": "stream",
     "text": [
      "3.2\n"
     ]
    }
   ],
   "source": [
    "mu = 100\n",
    "sd = 15\n",
    "n =36\n",
    "samp_mean = 108\n",
    "a = 0.05\n",
    "\n",
    "# H0: mu = 100\n",
    "# Ha: mu is not equal to 100\n",
    "\n",
    "z_test = (samp_mean - mu )/(sd /np.sqrt(n))\n",
    "print(z_test)"
   ]
  },
  {
   "cell_type": "code",
   "execution_count": 6,
   "metadata": {},
   "outputs": [
    {
     "name": "stdout",
     "output_type": "stream",
     "text": [
      "1.9599639845400545\n"
     ]
    }
   ],
   "source": [
    "critical_value = stats.norm.isf(a / 2)    #as the effect on glucose level could be positive or negative, it is two tailed test\n",
    "print (critical_value)"
   ]
  },
  {
   "cell_type": "code",
   "execution_count": 7,
   "metadata": {},
   "outputs": [
    {
     "name": "stdout",
     "output_type": "stream",
     "text": [
      "H0 is rejected\n"
     ]
    }
   ],
   "source": [
    "if z_test > critical_value or z_test < (0- critical_value):\n",
    "    print(\"H0 is rejected\")\n",
    "else:\n",
    "    print (\"Failed to reject H0\")"
   ]
  },
  {
   "cell_type": "markdown",
   "metadata": {},
   "source": [
    "# Problem 2"
   ]
  },
  {
   "cell_type": "code",
   "execution_count": 8,
   "metadata": {},
   "outputs": [
    {
     "name": "stdout",
     "output_type": "stream",
     "text": [
      "0.050000000000000044\n",
      "0.07061869440877536\n"
     ]
    }
   ],
   "source": [
    "#Suppose R1 & R2 are the proportion of republican voters in samples from each state AND N1 , N2 are the number of voters in each sample\n",
    "R1 = 0.52 \n",
    "R2 = 0.47\n",
    "N1 = 100    \n",
    "N2 = 100\n",
    "\n",
    "mu_diff = R1 - R2   # mean of difference in sample proportions\n",
    "sd_diff = np.sqrt(((R1*(1-R1))/N1)+((R2*(1-R2))/N2))\n",
    "print(mu_diff)\n",
    "print(sd_diff)"
   ]
  },
  {
   "cell_type": "code",
   "execution_count": 10,
   "metadata": {},
   "outputs": [
    {
     "name": "stdout",
     "output_type": "stream",
     "text": [
      "-0.7080278164104213\n"
     ]
    }
   ],
   "source": [
    "#probability of higher republican voter in second state is same as p(R2) > p(R1) as the total probability is 1, it means p(R2)-p(R1) is a positive difference or > 0 and p(R1)-p(R2)<0\n",
    "#we can use z test to check this probability \n",
    "\n",
    "z_test = (0 - mu_diff)/sd_diff\n",
    "print(z_test)\n"
   ]
  },
  {
   "cell_type": "code",
   "execution_count": 12,
   "metadata": {},
   "outputs": [],
   "source": [
    "# at z_test = -0.7080, probability from z table is ~0.24, hence the probability that the survey will show a greater percentage of Republican\n",
    "#voters in the second state than in the first state is 0.24 or 24%"
   ]
  },
  {
   "cell_type": "markdown",
   "metadata": {},
   "source": [
    "# Problem 3"
   ]
  },
  {
   "cell_type": "code",
   "execution_count": 13,
   "metadata": {},
   "outputs": [
    {
     "name": "stdout",
     "output_type": "stream",
     "text": [
      "My performance compared to the average test taker is 0.35406698564593303\n"
     ]
    }
   ],
   "source": [
    "mu = 1026\n",
    "x = 1100\n",
    "sd = 209\n",
    "z_score = (x-mu) /sd \n",
    "print (\"My performance compared to the average test taker is\",z_score)"
   ]
  },
  {
   "cell_type": "code",
   "execution_count": null,
   "metadata": {},
   "outputs": [],
   "source": []
  }
 ],
 "metadata": {
  "kernelspec": {
   "display_name": "Python 3",
   "language": "python",
   "name": "python3"
  },
  "language_info": {
   "codemirror_mode": {
    "name": "ipython",
    "version": 3
   },
   "file_extension": ".py",
   "mimetype": "text/x-python",
   "name": "python",
   "nbconvert_exporter": "python",
   "pygments_lexer": "ipython3",
   "version": "3.7.1"
  }
 },
 "nbformat": 4,
 "nbformat_minor": 2
}
