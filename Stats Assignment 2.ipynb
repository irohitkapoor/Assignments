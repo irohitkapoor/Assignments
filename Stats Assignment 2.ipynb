{
 "cells": [
  {
   "cell_type": "code",
   "execution_count": 3,
   "metadata": {
    "scrolled": false
   },
   "outputs": [
    {
     "name": "stdout",
     "output_type": "stream",
     "text": [
      " H0: μ = 25, H1: μ ≠ 25  is True since assumption behind hypothesis testing is to equate parameters in null hypothesis which is being followed\n",
      "H0: σ > 10, H1: σ = 10  is False since assumption behind hypothesis testing is to equate parameters in null hypothesis which is not being followed\n",
      "H0: x = 50, H1: x ≠ 50 is True with assumption that mu is also 50 and hence they are assuming x  = mean as condition for null hypothesis\n",
      " H0: p = 0.1, H1: p = 0.5 - I cannot decide based on the info\n",
      "5. H0: s = 30, H1: s > 30, is True since they are equating in null hypothesis\n"
     ]
    }
   ],
   "source": [
    "print(f\" H0: μ = 25, H1: μ ≠ 25  is True since assumption behind hypothesis testing is to equate parameters in null hypothesis which is being followed\")\n",
    "print (f\"H0: σ > 10, H1: σ = 10  is False since assumption behind hypothesis testing is to equate parameters in null hypothesis which is not being followed\")\n",
    "print (f\"H0: x = 50, H1: x ≠ 50 is True with assumption that mu is also 50 and hence they are assuming x  = mean as condition for null hypothesis\")\n",
    "print (f\" H0: p = 0.1, H1: p = 0.5 - I cannot decide based on the info\") \n",
    "print(f\"5. H0: s = 30, H1: s > 30, is True since they are equating in null hypothesis\")"
   ]
  },
  {
   "cell_type": "code",
   "execution_count": 1,
   "metadata": {},
   "outputs": [],
   "source": [
    "import numpy as np\n",
    "from scipy import stats"
   ]
  },
  {
   "cell_type": "code",
   "execution_count": 2,
   "metadata": {},
   "outputs": [],
   "source": [
    "def z_value(x,mu,std,n):\n",
    "    return (x-mu)/(std/(n**(1/2)))"
   ]
  },
  {
   "cell_type": "markdown",
   "metadata": {},
   "source": [
    "# Problem Statement 2"
   ]
  },
  {
   "cell_type": "code",
   "execution_count": 32,
   "metadata": {},
   "outputs": [
    {
     "name": "stdout",
     "output_type": "stream",
     "text": [
      "the probability is:  0.9622798201865993\n",
      "null hypothesis accepted, the price is not higher than Rs 52\n"
     ]
    }
   ],
   "source": [
    "p = stats.norm.cdf(z_value(52.8,52,4.5,100))\n",
    "print(\"the probability is: \", p)\n",
    "if p > 0.05:\n",
    "    print(\"null hypothesis accepted, the price is not higher than Rs 52\")\n",
    "else:\n",
    "    print(\"null hypothesis rejected\")"
   ]
  },
  {
   "cell_type": "markdown",
   "metadata": {},
   "source": [
    "# Problem Statement 3"
   ]
  },
  {
   "cell_type": "code",
   "execution_count": 33,
   "metadata": {},
   "outputs": [
    {
     "name": "stdout",
     "output_type": "stream",
     "text": [
      "the probability is:  0.0924487994828001\n",
      "null hypothesis accepted, the price is not higher than Rs 52\n"
     ]
    }
   ],
   "source": [
    "p = stats.norm.cdf(z_value(32.5,34,8,50))\n",
    "print(\"the probability is: \", p)\n",
    "if p > 0.01:\n",
    "    print(\"null hypothesis accepted, the price is not higher than Rs 52\")\n",
    "else:\n",
    "    print(\"null hypothesis rejected\")"
   ]
  },
  {
   "cell_type": "markdown",
   "metadata": {},
   "source": [
    "# Problem Statement 4"
   ]
  },
  {
   "cell_type": "code",
   "execution_count": 65,
   "metadata": {},
   "outputs": [
    {
     "name": "stdout",
     "output_type": "stream",
     "text": [
      "the T value is:  -2.070747228595759\n",
      "null hypothesis is accepted, the numbers are accurate\n"
     ]
    }
   ],
   "source": [
    "s = [1008, 812, 1117, 1323, 1308, 1415, 831, 1021, 1287, 851, 930, 730, 699,872, 913, 944, 954, 987, 1695, 995, 1003, 994]\n",
    "mu = 1135   #population mean \n",
    "t_value = (np.mean(s) - mu) /( np.std(s)  / (22**(1/2)))\n",
    "print(\"the T value is: \", t_value)\n",
    "if abs(t_value) < stats.t.ppf(.975,21):                  # use confidence level as .975 as it is a two tailed test\n",
    "    print(\"null hypothesis is accepted, the numbers are accurate\")\n",
    "else:\n",
    "    print(\"null hypothesis is rejected\")"
   ]
  },
  {
   "cell_type": "markdown",
   "metadata": {},
   "source": [
    "# Problem Statement 5"
   ]
  },
  {
   "cell_type": "code",
   "execution_count": 5,
   "metadata": {
    "scrolled": true
   },
   "outputs": [
    {
     "name": "stdout",
     "output_type": "stream",
     "text": [
      "the z score is:  1.42\n",
      "null hypothesis is accepted, the average annual family income is correctly published\n"
     ]
    }
   ],
   "source": [
    "# null hypothesis , x at $48,574 = mu of $48,432\n",
    "score = z_value(48574, 48432,2000,400)\n",
    "print(\"the z score is: \", score)\n",
    "if score < 1.96:\n",
    "    print(\"null hypothesis is accepted, the average annual family income is correctly published\")\n",
    "else:\n",
    "    print(\"null hypothesis is rejected\")"
   ]
  },
  {
   "cell_type": "markdown",
   "metadata": {},
   "source": [
    "# Problem Statement 6"
   ]
  },
  {
   "cell_type": "code",
   "execution_count": 7,
   "metadata": {},
   "outputs": [],
   "source": [
    "def t_value(x,mu,std,n):\n",
    "    return (x-mu)/(std/(n**(1/2)))"
   ]
  },
  {
   "cell_type": "code",
   "execution_count": 14,
   "metadata": {},
   "outputs": [
    {
     "name": "stdout",
     "output_type": "stream",
     "text": [
      "null hypothesis , x at $31.67 = mu of $32.28 where mu is population mean\n",
      "the alternate hypothesis is the sample mean has changed over from past population mean.\n",
      "the T value is:  -2.06118477175179\n",
      "null hypothesis is accepted, the past avg price per square foot numbers are accurate\n"
     ]
    }
   ],
   "source": [
    "print('null hypothesis , x at $31.67 = mu of $32.28 where mu is population mean')\n",
    "print('the alternate hypothesis is the sample mean has changed over from past population mean.')\n",
    "score = t_value(31.67,32.28,1.29,19)\n",
    "print(\"the T value is: \", score)\n",
    "if abs(score) < stats.t.ppf(1-.05/2,19-1):                  # use confidence level as .975 as it is a two tailed test\n",
    "    print(\"null hypothesis is accepted, the past avg price per square foot numbers are accurate\")\n",
    "else:\n",
    "    print(\"null hypothesis is rejected\")"
   ]
  },
  {
   "cell_type": "markdown",
   "metadata": {},
   "source": [
    "# Problem Statement 7"
   ]
  },
  {
   "cell_type": "code",
   "execution_count": null,
   "metadata": {},
   "outputs": [],
   "source": [
    "# assuming alpha to be 5%\n",
    "n = 10\n",
    "mu = 52\n"
   ]
  },
  {
   "cell_type": "markdown",
   "metadata": {},
   "source": [
    "# Problem Statement 8"
   ]
  },
  {
   "cell_type": "code",
   "execution_count": 16,
   "metadata": {},
   "outputs": [
    {
     "name": "stdout",
     "output_type": "stream",
     "text": [
      "the t score for the given parameters is : 5.333333333333333\n"
     ]
    }
   ],
   "source": [
    "print(f'the t score for the given parameters is : {t_value(12,10,1.5,16)}')"
   ]
  },
  {
   "cell_type": "markdown",
   "metadata": {},
   "source": [
    "# Problem Statement 9"
   ]
  },
  {
   "cell_type": "code",
   "execution_count": 19,
   "metadata": {},
   "outputs": [
    {
     "name": "stdout",
     "output_type": "stream",
     "text": [
      "the t score for required parameters is :-2.602480294995493\n"
     ]
    }
   ],
   "source": [
    "print(f'the t score for required parameters is :{stats.t.ppf(1-.99,16-1)}')"
   ]
  },
  {
   "cell_type": "markdown",
   "metadata": {},
   "source": [
    "# Problem Statement 10"
   ]
  },
  {
   "cell_type": "code",
   "execution_count": 37,
   "metadata": {},
   "outputs": [
    {
     "name": "stdout",
     "output_type": "stream",
     "text": [
      "the t score for middle 95% sample is : +- -2.0638985616280205\n"
     ]
    }
   ],
   "source": [
    "print(f'the t score for middle 95% sample is : +- {stats.t.ppf(1-.975,25-1)}')"
   ]
  },
  {
   "cell_type": "code",
   "execution_count": 39,
   "metadata": {},
   "outputs": [
    {
     "name": "stdout",
     "output_type": "stream",
     "text": [
      "the probability for (−t0.05 <t<t0.10) is :0.85\n"
     ]
    }
   ],
   "source": [
    "print(f'the probability for (−t0.05 <t<t0.10) is :{1-.05-.10}')   #as p(t<-0.05 is .05 left of t and p(t<0.10 ) is entire area except right of 0.10)"
   ]
  },
  {
   "cell_type": "code",
   "execution_count": 33,
   "metadata": {},
   "outputs": [],
   "source": [
    "# Problem Statement 11"
   ]
  },
  {
   "cell_type": "code",
   "execution_count": 58,
   "metadata": {},
   "outputs": [],
   "source": [
    "def z_twosample(x1,s1,n1,x2,s2,n2):\n",
    "    return (x1-x2) / ((((s1**2)/n1) + ((s2**2)/n2))**(1/2))\n"
   ]
  },
  {
   "cell_type": "code",
   "execution_count": 72,
   "metadata": {},
   "outputs": [
    {
     "name": "stdout",
     "output_type": "stream",
     "text": [
      "the z value for the two samples is: -7.926428526759299\n",
      "null hypothesis is rejected\n"
     ]
    }
   ],
   "source": [
    "# null hypothesis is x1 = x2\n",
    "# alternate hypothesis is x1 != x2\n",
    "score = z_twosample(452,212,1200,523,185,800)\n",
    "print(f'the z value for the two samples is:', score)\n",
    "if abs(score) < abs(stats.t.ppf(1-.975,1200+800-2)):\n",
    "    print('null hypothesis is accepted, there is enough evidence to prove the mean no. of travellers is same for both destinations')\n",
    "else:\n",
    "    print(\"null hypothesis is rejected\")"
   ]
  },
  {
   "cell_type": "code",
   "execution_count": 21,
   "metadata": {},
   "outputs": [],
   "source": [
    "# Problem Statement 12"
   ]
  },
  {
   "cell_type": "code",
   "execution_count": 71,
   "metadata": {},
   "outputs": [
    {
     "name": "stdout",
     "output_type": "stream",
     "text": [
      "the z value for the two samples is: 5.025702668336442\n",
      "null hypothesis is rejected\n"
     ]
    }
   ],
   "source": [
    "# null hypothesis is x1 = x2\n",
    "# alternate hypothesis is x1 != x2\n",
    "score = z_twosample(308,84,100,254,67,100)\n",
    "print(f'the z value for the two samples is:', score)\n",
    "if abs(score) < abs(stats.t.ppf(1-.975,100+100-2)):\n",
    "    print('null hypothesis is accepted, there is enough evidence to prove the mean no. of people preferring both batteries are same')\n",
    "else:\n",
    "    print(\"null hypothesis is rejected\")"
   ]
  },
  {
   "cell_type": "code",
   "execution_count": 22,
   "metadata": {},
   "outputs": [],
   "source": [
    "# Problem Statement 13"
   ]
  },
  {
   "cell_type": "code",
   "execution_count": 80,
   "metadata": {},
   "outputs": [],
   "source": [
    "def t_twosample(x1,s1,n1,x2,s2,n2):       # when population size < 30\n",
    "    return (x1-x2) / (( (((n1-1)*(s1**2))+((n2-1)*(s2**2)))/(n1+n2-2) *( (1/n1)+(1/n2) ))**(1/2))\n"
   ]
  },
  {
   "cell_type": "code",
   "execution_count": 81,
   "metadata": {},
   "outputs": [
    {
     "name": "stdout",
     "output_type": "stream",
     "text": [
      "the z value for the two samples is: 2.15355322387416\n",
      "null hypothesis is rejected\n"
     ]
    }
   ],
   "source": [
    "# null hypothesis is x1 = x2\n",
    "# alternate hypothesis is x1 != x2\n",
    "score = t_twosample(.317,.12,14,.21,.11,9)\n",
    "print(f'the z value for the two samples is:', score)\n",
    "if abs(score) < abs(stats.t.ppf(1-.975,14+9-2)):\n",
    "    print('null hypothesis is accepted, there is enough evidence to conclude that average percentage increase in the price of sugar does not differs')\n",
    "else:\n",
    "    print(\"null hypothesis is rejected\")"
   ]
  },
  {
   "cell_type": "code",
   "execution_count": 23,
   "metadata": {},
   "outputs": [],
   "source": [
    "# Problem Statement 14"
   ]
  },
  {
   "cell_type": "code",
   "execution_count": 85,
   "metadata": {},
   "outputs": [
    {
     "name": "stdout",
     "output_type": "stream",
     "text": [
      "the z value for the two samples is: 0.9098300343990461\n",
      "null hypothesis is accepted, there is enough evidence to prove reducing price can improve sales\n"
     ]
    }
   ],
   "source": [
    "# null hypothesis is x1 = x2\n",
    "# alternate hypothesis is x1 != x2\n",
    "score = t_twosample(6870,669,12,6598,844,15)\n",
    "print(f'the z value for the two samples is:', score)\n",
    "if abs(score) < abs(stats.t.ppf(1-.95,12+15-2)):\n",
    "    print('null hypothesis is accepted, there is enough evidence to prove reducing price can improve sales')\n",
    "else:\n",
    "    print(\"null hypothesis is rejected\")"
   ]
  },
  {
   "cell_type": "code",
   "execution_count": 25,
   "metadata": {},
   "outputs": [],
   "source": [
    "# Problem Statement 15"
   ]
  },
  {
   "cell_type": "code",
   "execution_count": 123,
   "metadata": {},
   "outputs": [],
   "source": [
    "def p_value (x1,p1,n1,x2,p2,n2,D):\n",
    "    p3 = (x1+x2)/(n1+n2)\n",
    "    return (p1-p2)/((p3*(1-p3)*((1/n1)+(1/n2)))**(1/2)) "
   ]
  },
  {
   "cell_type": "code",
   "execution_count": 125,
   "metadata": {},
   "outputs": [
    {
     "name": "stdout",
     "output_type": "stream",
     "text": [
      "the p value for the given details is:  1.4153462926807452\n",
      "null hypothesis is accepted, there is enough evidence to prove two proportions are not different\n"
     ]
    }
   ],
   "source": [
    "score = p_value(53,0.53,100,43,0.43,100,0)\n",
    "print('the p value for the given details is: ',score)\n",
    "if abs(stats.norm.cdf(score)) < abs(stats.norm.ppf(.025)):\n",
    "    print('null hypothesis is accepted, there is enough evidence to prove two proportions are not different')\n",
    "else:\n",
    "    print(\"null hypothesis is rejected\")"
   ]
  },
  {
   "cell_type": "code",
   "execution_count": 26,
   "metadata": {},
   "outputs": [],
   "source": [
    "# Problem Statement 16"
   ]
  },
  {
   "cell_type": "code",
   "execution_count": 126,
   "metadata": {},
   "outputs": [
    {
     "name": "stdout",
     "output_type": "stream",
     "text": [
      "the p value for the given details is:  6.607499047222304\n",
      "null hypothesis is accepted, there is enough evidence to prove two proportions are not different\n"
     ]
    }
   ],
   "source": [
    "score = p_value(120,0.4,300,140,0.2,700,.1)\n",
    "print('the p value for the given details is: ',score)\n",
    "if abs(stats.norm.cdf(score)) < abs(stats.norm.ppf(.05)):\n",
    "    print('null hypothesis is accepted, there is enough evidence to prove two proportions are not different')\n",
    "else:\n",
    "    print(\"null hypothesis is rejected\")"
   ]
  },
  {
   "cell_type": "code",
   "execution_count": 91,
   "metadata": {},
   "outputs": [],
   "source": [
    "# Problem Statement 17"
   ]
  },
  {
   "cell_type": "code",
   "execution_count": 88,
   "metadata": {},
   "outputs": [
    {
     "name": "stdout",
     "output_type": "stream",
     "text": [
      "the chi and p values are: 9.0 0.1090641579497725\n",
      "null hypothesis is accepted, there is enough evidence to prove die is unbiased\n"
     ]
    }
   ],
   "source": [
    "# there are equal chances of getting 1-6 when rolling the dice and hence expected outcome is same for all = 132/6 = 22\n",
    "chi , p = stats.chisquare([16, 20, 25, 14, 29, 28],[22,22,22,22,22,22])\n",
    "print (f'the chi and p values are:', chi, p)\n",
    "if chi < stats.chi2.ppf(1-.05,5):\n",
    "    print('null hypothesis is accepted, there is enough evidence to prove die is unbiased')\n",
    "else:\n",
    "    print(\"null hypothesis is rejected\")"
   ]
  },
  {
   "cell_type": "code",
   "execution_count": 28,
   "metadata": {},
   "outputs": [],
   "source": [
    "# Problem Statement 18"
   ]
  },
  {
   "cell_type": "code",
   "execution_count": 117,
   "metadata": {},
   "outputs": [
    {
     "name": "stdout",
     "output_type": "stream",
     "text": [
      "the chi and p values are: 6.660455899328019 0.08354483102552486\n",
      "null hypothesis is rejected\n"
     ]
    }
   ],
   "source": [
    "# city's population for men and women is (2792+1486) and (3591+2131) = 4278 and 5722\n",
    "# as there are equal chances for men and women to vote, expected no.s should be 50% of the voted for each.\n",
    "Voted = [2792,3591]  \n",
    "Non_voted = [1486,2131]\n",
    "Total = [4278,5722]\n",
    "Expected = []\n",
    "j =[]\n",
    "for i in Total:\n",
    "    Expected.append((i/10000)*sum(Voted))\n",
    "    j.append((i/10000)*sum(Non_voted))\n",
    "chi , p = stats.chisquare((Voted + Non_voted),(Expected +j))\n",
    "print (f'the chi and p values are:', chi, p)\n",
    "if chi < stats.chi2.ppf(1-.01,((2-1)*(2-1))):\n",
    "    print('null hypothesis is accepted, there is enough evidence to prove voting and gender are independent')\n",
    "else:\n",
    "    print(\"null hypothesis is rejected\")\n"
   ]
  },
  {
   "cell_type": "code",
   "execution_count": 29,
   "metadata": {},
   "outputs": [],
   "source": [
    "# Problem Statement 19"
   ]
  },
  {
   "cell_type": "code",
   "execution_count": 91,
   "metadata": {},
   "outputs": [
    {
     "name": "stdout",
     "output_type": "stream",
     "text": [
      "the chi and p values are: 14.959999999999999 0.001851152735284203\n",
      "null hypothesis is rejected\n"
     ]
    }
   ],
   "source": [
    "chi , p = stats.chisquare([41,19,24,16],[25,25,25,25])\n",
    "print (f'the chi and p values are:', chi, p)\n",
    "if chi < stats.chi2.ppf(1-.05,3):\n",
    "    print('null hypothesis is accepted, there is enough evidence to prove voting and gender are independent')\n",
    "else:\n",
    "    print(\"null hypothesis is rejected\")"
   ]
  },
  {
   "cell_type": "code",
   "execution_count": 30,
   "metadata": {},
   "outputs": [],
   "source": [
    "# Problem Statement 20"
   ]
  },
  {
   "cell_type": "code",
   "execution_count": 121,
   "metadata": {},
   "outputs": [
    {
     "name": "stdout",
     "output_type": "stream",
     "text": [
      "the result of chisquare are 29.603174603174608 5.894582174262606e-06 4 [[12. 18. 30.]\n",
      " [14. 21. 35.]\n",
      " [14. 21. 35.]]\n",
      "null hypothesis is rejected\n"
     ]
    }
   ],
   "source": [
    "chi,p, df, expected = stats.chi2_contingency([[18,22,20],[2,28,40],[20,10,40]])\n",
    "print('the result of chisquare are',chi,p, df, expected)\n",
    "if chi < stats.chi2.ppf(1-.05,4):\n",
    "    print('null hypothesis is accepted, there is enough evidence to prove signigicance between age and photo preference')\n",
    "else:\n",
    "    print(\"null hypothesis is rejected\")\n"
   ]
  },
  {
   "cell_type": "code",
   "execution_count": 31,
   "metadata": {},
   "outputs": [],
   "source": [
    "# Problem Statement 21"
   ]
  },
  {
   "cell_type": "code",
   "execution_count": 2,
   "metadata": {},
   "outputs": [
    {
     "name": "stdout",
     "output_type": "stream",
     "text": [
      "the result of chisquare are 18.10344827586207 2.092221924065813e-05 1 [[29. 29.]\n",
      " [21. 21.]]\n",
      "null hypothesis is rejected\n"
     ]
    }
   ],
   "source": [
    "chi,p, df, expected = stats.chi2_contingency([[18,40],[32,10]])\n",
    "print('the result of chisquare are',chi,p, df, expected)\n",
    "if chi < stats.chi2.ppf(1-.05,1):\n",
    "    print('null hypothesis is accepted, there is enough evidence to prove signigicance between age and photo preference')\n",
    "else:\n",
    "    print(\"null hypothesis is rejected\")\n"
   ]
  },
  {
   "cell_type": "code",
   "execution_count": 32,
   "metadata": {},
   "outputs": [],
   "source": [
    "# Problem Statement 22"
   ]
  },
  {
   "cell_type": "code",
   "execution_count": 4,
   "metadata": {},
   "outputs": [
    {
     "name": "stdout",
     "output_type": "stream",
     "text": [
      "the result of chisquare are 10.712198008709638 0.004719280137040844 2 [[19.91578947 24.08421053]\n",
      " [16.29473684 19.70526316]\n",
      " [ 6.78947368  8.21052632]]\n",
      "null hypothesis is rejected\n"
     ]
    }
   ],
   "source": [
    "chi,p, df, expected = stats.chi2_contingency([[12,32],[22,14],[9,6]])\n",
    "print('the result of chisquare are',chi,p, df, expected)\n",
    "if chi < stats.chi2.ppf(1-.01,2):\n",
    "    print('null hypothesis is accepted, there is enough evidence to prove there a relationship between height and leadership qualities?')\n",
    "else:\n",
    "    print(\"null hypothesis is rejected\")\n"
   ]
  },
  {
   "cell_type": "code",
   "execution_count": 5,
   "metadata": {},
   "outputs": [],
   "source": [
    "# Problem Statement 23"
   ]
  },
  {
   "cell_type": "code",
   "execution_count": 6,
   "metadata": {},
   "outputs": [
    {
     "name": "stdout",
     "output_type": "stream",
     "text": [
      "the result of chisquare are 31.61310319407798 2.2949883042859918e-06 4 [[654.06331471 109.2886406  132.64804469]\n",
      " [ 67.88826816  11.34357542  13.76815642]\n",
      " [ 62.04841713  10.36778399  12.58379888]]\n",
      "null hypothesis is rejected\n"
     ]
    }
   ],
   "source": [
    "chi,p, df, expected = stats.chi2_contingency([[679,103,114],[63,10,20],[42,18,25]])\n",
    "print('the result of chisquare are',chi,p, df, expected)\n",
    "if chi < stats.chi2.ppf(1-.01,2):\n",
    "    print('null hypothesis is accepted, there is enough evidence to prove there a relationship between height and leadership qualities?')\n",
    "else:\n",
    "    print(\"null hypothesis is rejected\")\n"
   ]
  }
 ],
 "metadata": {
  "kernelspec": {
   "display_name": "Python 3",
   "language": "python",
   "name": "python3"
  },
  "language_info": {
   "codemirror_mode": {
    "name": "ipython",
    "version": 3
   },
   "file_extension": ".py",
   "mimetype": "text/x-python",
   "name": "python",
   "nbconvert_exporter": "python",
   "pygments_lexer": "ipython3",
   "version": "3.7.1"
  }
 },
 "nbformat": 4,
 "nbformat_minor": 2
}
