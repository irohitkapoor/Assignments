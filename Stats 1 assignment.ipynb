{
 "cells": [
  {
   "cell_type": "code",
   "execution_count": 2,
   "metadata": {},
   "outputs": [],
   "source": [
    "import numpy as np\n",
    "from scipy import stats\n",
    "import math\n",
    "import matplotlib.pyplot as plt"
   ]
  },
  {
   "cell_type": "markdown",
   "metadata": {},
   "source": [
    "#Answer to Problem Statement 1 "
   ]
  },
  {
   "cell_type": "code",
   "execution_count": 2,
   "metadata": {},
   "outputs": [
    {
     "name": "stdout",
     "output_type": "stream",
     "text": [
      "the mean of marks is 6.85\n",
      "the mean of marks is 7.0\n",
      "the standard deviation of marks is 1.5898113095584647\n",
      "the mean of marks is ModeResult(mode=array([7]), count=array([5]))\n"
     ]
    }
   ],
   "source": [
    "marks = [6, 7, 5, 7, 7, 8, 7, 6, 9, 7, 4, 10, 6, 8, 8, 9, 5, 6, 4, 8]\n",
    "print(\"the mean of marks is\", np.mean(marks))\n",
    "print(\"the mean of marks is\", np.median(marks))\n",
    "print(\"the standard deviation of marks is\", np.std(marks))\n",
    "print(\"the mean of marks is\", stats.mode(marks))"
   ]
  },
  {
   "cell_type": "code",
   "execution_count": null,
   "metadata": {},
   "outputs": [],
   "source": [
    "#Answer to Problem Statement 2"
   ]
  },
  {
   "cell_type": "code",
   "execution_count": 4,
   "metadata": {},
   "outputs": [
    {
     "name": "stdout",
     "output_type": "stream",
     "text": [
      "the mean of marks is 107.51428571428572\n",
      "the mean of marks is 100.0\n",
      "the standard deviation of marks is 38.77287080168403\n",
      "the mean of marks is ModeResult(mode=array([75]), count=array([4]))\n"
     ]
    }
   ],
   "source": [
    "calls = [28, 122, 217, 130, 120, 86, 80, 90, 140, 120, 70, 40, 145, 113, 90, 68, 174, 194, 170,\n",
    "100, 75, 104, 97, 75,\n",
    "123, 100, 75, 104, 97, 75, 123, 100, 89, 120, 109]\n",
    "print(\"the mean of marks is\", np.mean(calls))\n",
    "print(\"the mean of marks is\", np.median(calls))\n",
    "print(\"the standard deviation of marks is\", np.std(calls))\n",
    "print(\"the mean of marks is\", stats.mode(calls))"
   ]
  },
  {
   "cell_type": "code",
   "execution_count": null,
   "metadata": {},
   "outputs": [],
   "source": [
    "#Answer to Problem Statement 3"
   ]
  },
  {
   "cell_type": "code",
   "execution_count": 27,
   "metadata": {},
   "outputs": [
    {
     "name": "stdout",
     "output_type": "stream",
     "text": [
      "the mean of workouts is: 2.15\n",
      "the variance is: 1.2275\n"
     ]
    }
   ],
   "source": [
    "x = [0, 1, 2, 3, 4, 5]\n",
    "p = [0.09, 0.15, 0.40, 0.25, 0.10, 0.01]\n",
    "total =[]\n",
    "for i,j in zip(x,p):\n",
    "    total.append(i*j)\n",
    "print(\"the mean of workouts is:\", np.sum(total))\n",
    "var = []\n",
    "for i,j in zip(x,p):\n",
    "    var.append((i-np.sum(total))**2*j)\n",
    "print(\"the variance is:\", np.sum(var))"
   ]
  },
  {
   "cell_type": "code",
   "execution_count": 32,
   "metadata": {},
   "outputs": [],
   "source": [
    "\n",
    "#Answer to Problem Statement 4"
   ]
  },
  {
   "cell_type": "code",
   "execution_count": 43,
   "metadata": {},
   "outputs": [
    {
     "name": "stdout",
     "output_type": "stream",
     "text": [
      "the proporion of those parts is: 0.13533546530402835\n"
     ]
    }
   ],
   "source": [
    "#p(x>12.5) = 20*𝑒**((−20)*(x−12.5))\n",
    "\n",
    "print (\"the proporion of those parts is:\", 2.71828**((-20)*(12.6-12.5)))"
   ]
  },
  {
   "cell_type": "code",
   "execution_count": null,
   "metadata": {},
   "outputs": [],
   "source": []
  },
  {
   "cell_type": "code",
   "execution_count": 79,
   "metadata": {},
   "outputs": [],
   "source": [
    "#Answer to Problem Statement 5"
   ]
  },
  {
   "cell_type": "code",
   "execution_count": 23,
   "metadata": {},
   "outputs": [
    {
     "name": "stdout",
     "output_type": "stream",
     "text": [
      "the required probability is: 0.3241349999999999\n",
      "the standard deviation is: 1.1224972160321822\n"
     ]
    }
   ],
   "source": [
    "def nCr(n,x):\n",
    "    f = math.factorial\n",
    "    return f(n) / f(x) / f(n-x)\n",
    "#p is probability of faulty bulb, n=6, x=2\n",
    "print (\"the required probability is:\", nCr(6,2)*(0.3)**2*(1-0.3)**4 )\n",
    "print(\"the standard deviation is:\", math.sqrt(6 * 0.3 * ( 1 - 0.3 )))"
   ]
  },
  {
   "cell_type": "code",
   "execution_count": 80,
   "metadata": {},
   "outputs": [],
   "source": [
    "#Answer to Problem Statement 6"
   ]
  },
  {
   "cell_type": "code",
   "execution_count": 24,
   "metadata": {},
   "outputs": [
    {
     "name": "stdout",
     "output_type": "stream",
     "text": [
      "the probability of five correct questions by Gaurav & Barakha is: 0.046199890572992175\n",
      "the probability of four correct questions by Gaurav & Barakha is: 0.014704826281913018\n",
      "the probability of six correct questions by Gaurav & Barakha is: 0.0661498433204206\n"
     ]
    }
   ],
   "source": [
    "print (\"the probability of five correct questions by Gaurav & Barakha is:\", nCr(8,5)*(0.75)**5*(1-0.75)**3*(nCr(12,5)*(0.45)**5*(1-0.45)**7) )\n",
    "print (\"the probability of four correct questions by Gaurav & Barakha is:\", nCr(8,4)*(0.75)**4*(1-0.75)**4*(nCr(12,4)*(0.45)**4*(1-0.45)**8) )\n",
    "print (\"the probability of six correct questions by Gaurav & Barakha is:\", nCr(8,6)*(0.75)**6*(1-0.75)**2*(nCr(12,6)*(0.45)**6*(1-0.45)**6) )\n"
   ]
  },
  {
   "cell_type": "code",
   "execution_count": 25,
   "metadata": {},
   "outputs": [
    {
     "name": "stdout",
     "output_type": "stream",
     "text": [
      "Inference - it is important to focus on accruacy rather than answering more.\n",
      "two factors are speed(numbers of answers) and accuracy\n"
     ]
    }
   ],
   "source": [
    "print('Inference - it is important to focus on accruacy rather than answering more.')\n",
    "print('two factors are speed (numbers of answers) and accuracy')"
   ]
  },
  {
   "cell_type": "code",
   "execution_count": 28,
   "metadata": {
    "scrolled": true
   },
   "outputs": [
    {
     "data": {
      "text/plain": [
       "[<matplotlib.lines.Line2D at 0x2b7b4243a90>]"
      ]
     },
     "execution_count": 28,
     "metadata": {},
     "output_type": "execute_result"
    },
    {
     "data": {
      "image/png": "[encoded data removed]",
      "text/plain": [
       "<Figure size 432x288 with 1 Axes>"
      ]
     },
     "metadata": {
      "needs_background": "light"
     },
     "output_type": "display_data"
    }
   ],
   "source": [
    "x = [4,5,6]\n",
    "probability = [0.014,0.046,0.066]\n",
    "plt.plot(x,probability)"
   ]
  },
  {
   "cell_type": "markdown",
   "metadata": {},
   "source": [
    "# Problem Statement 7"
   ]
  },
  {
   "cell_type": "code",
   "execution_count": 40,
   "metadata": {
    "scrolled": false
   },
   "outputs": [
    {
     "name": "stdout",
     "output_type": "stream",
     "text": [
      "the probability of 5 customer in 4 minutes is : 0.17474768364388296 \n",
      "the probability of not more than 3 customer in 4 minutes is : 0.15169069760753714 \n",
      "the probability of more than 3 customer in 4 minutes is : 0.705770083503436 \n"
     ]
    }
   ],
   "source": [
    "mu = 4* 72/60\n",
    "print ( f\"the probability of 5 customer in 4 minutes is : {stats.poisson.pmf(5,mu)} \" )\n",
    "print ( f\"the probability of not more than 3 customer in 4 minutes is : {stats.poisson.pmf(3,mu)} \" )\n",
    "print ( f\"the probability of more than 3 customer in 4 minutes is : {1-(stats.poisson.pmf(0,mu)+stats.poisson.pmf(1,mu)+stats.poisson.pmf(2,mu)+stats.poisson.pmf(3,mu))} \" )"
   ]
  },
  {
   "cell_type": "code",
   "execution_count": 43,
   "metadata": {},
   "outputs": [
    {
     "data": {
      "image/png": "[encoded data removed]",
      "text/plain": [
       "<Figure size 432x288 with 1 Axes>"
      ]
     },
     "metadata": {
      "needs_background": "light"
     },
     "output_type": "display_data"
    }
   ],
   "source": [
    "fig, ax = plt.subplots(1, 1)\n",
    "x = np.arange(10)\n",
    "ax.plot(x, stats.poisson.pmf(x, mu), 'bo', ms=8, label='poisson pmf')\n",
    "ax.vlines(x, 0, stats.poisson.pmf(x, mu), colors='b', lw=5, alpha=0.5)\n",
    "plt.show()"
   ]
  },
  {
   "cell_type": "markdown",
   "metadata": {},
   "source": [
    "# Problem Statement 8: "
   ]
  },
  {
   "cell_type": "code",
   "execution_count": 56,
   "metadata": {},
   "outputs": [
    {
     "name": "stdout",
     "output_type": "stream",
     "text": [
      "the probability of 2 errors while entering 455 words is : 0.09669027375144444\n",
      "the probability of 2 errors while entering 1000 words is : 0.23012815007300153\n",
      "the probability of 2 errors while entering 255 words is : 0.039377135392854125\n"
     ]
    }
   ],
   "source": [
    "mu  = 6/60    # this is mu per minute\n",
    "\n",
    "print (f\"the probability of 2 errors while entering 455 words is : {stats.poisson.pmf(2,455/77*mu)}\")\n",
    "print (f\"the probability of 2 errors while entering 1000 words is : {stats.poisson.pmf(2,1000/77*mu)}\")\n",
    "print (f\"the probability of 2 errors while entering 255 words is : {stats.poisson.pmf(2,255/77*mu)}\")"
   ]
  },
  {
   "cell_type": "code",
   "execution_count": 78,
   "metadata": {},
   "outputs": [
    {
     "name": "stdout",
     "output_type": "stream",
     "text": [
      "the probability of 2 errors while entering 455 words is : 0.09669027375144444\n",
      "the probability of 2 errors while entering 1000 words is : 0.23012815007300153\n",
      "the probability of 2 errors while entering 255 words is : 0.039377135392854104\n"
     ]
    },
    {
     "data": {
      "image/png": "[encoded data removed]",
      "text/plain": [
       "<Figure size 432x288 with 1 Axes>"
      ]
     },
     "metadata": {
      "needs_background": "light"
     },
     "output_type": "display_data"
    }
   ],
   "source": [
    "def mu(w):\n",
    "    return w * 6 / 60 / 77   # 6/60 is errors per minute, 77 is words per minute\n",
    "\n",
    "print (f\"the probability of 2 errors while entering 455 words is : {stats.poisson.pmf(2,mu(455))}\")\n",
    "print (f\"the probability of 2 errors while entering 1000 words is : {stats.poisson.pmf(2,mu(1000))}\")\n",
    "print (f\"the probability of 2 errors while entering 255 words is : {stats.poisson.pmf(2,mu(255))}\")\n",
    "\n",
    "k = range (1,1000,77)\n",
    "Mu = [mu(i) for i in k]\n",
    "fig, ax = plt.subplots(1,1)\n",
    "ax.plot(k, stats.poisson.pmf(2,Mu), 'bo', ms =8, label = 'poisson pmf')\n",
    "ax.vlines (k, 0,stats.poisson.pmf(2,Mu), colors = 'b', lw = 5, alpha =0.5)\n",
    "plt.ylabel()\n",
    "plt.show()\n",
    "\n"
   ]
  },
  {
   "cell_type": "markdown",
   "metadata": {},
   "source": [
    "# Problem 9 is same as Problem 4 which is already answered above"
   ]
  },
  {
   "cell_type": "markdown",
   "metadata": {},
   "source": [
    "# Problem 10"
   ]
  },
  {
   "cell_type": "code",
   "execution_count": 82,
   "metadata": {},
   "outputs": [
    {
     "data": {
      "text/plain": [
       "0.10383468112130045"
      ]
     },
     "execution_count": 82,
     "metadata": {},
     "output_type": "execute_result"
    }
   ],
   "source": [
    "1-stats.norm.cdf(1.26)"
   ]
  },
  {
   "cell_type": "code",
   "execution_count": 7,
   "metadata": {},
   "outputs": [
    {
     "name": "stdout",
     "output_type": "stream",
     "text": [
      "P(Z > 1.26) is : 0.10383468112130045\n",
      "P(Z < −0.86) is : 0.1948945212518084\n",
      "P(Z > −1.37) is : 0.914656549178033\n",
      "P(−1.25 < Z < 0.37) is : 0.5386589811336914\n",
      "P(Z ≤ −4.6) is : 2.1124547025028537e-06\n"
     ]
    }
   ],
   "source": [
    "print (f\"P(Z > 1.26) is : {1-stats.norm.cdf(1.26)}\")\n",
    "print (f\"P(Z < −0.86) is : {stats.norm.cdf(-.86)}\")\n",
    "print (f\"P(Z > −1.37) is : {1-stats.norm.cdf(-1.37)}\")\n",
    "print (f\"P(−1.25 < Z < 0.37) is : {stats.norm.cdf(.37)-stats.norm.cdf(-1.25)}\")\n",
    "print (f\"P(Z ≤ −4.6) is : {stats.norm.cdf(-4.6)}\")"
   ]
  },
  {
   "cell_type": "code",
   "execution_count": 9,
   "metadata": {},
   "outputs": [
    {
     "name": "stdout",
     "output_type": "stream",
     "text": [
      "P(Z > z) = 0.05 is : 1.6448536269514722\n"
     ]
    }
   ],
   "source": [
    "print (f\"P(Z > z) = 0.05 is : {stats.norm.ppf(1-.05)}\")\n",
    "\n"
   ]
  },
  {
   "cell_type": "code",
   "execution_count": 11,
   "metadata": {},
   "outputs": [
    {
     "name": "stdout",
     "output_type": "stream",
     "text": [
      "P(−z < Z < z) = 0.99 is : -2.575829303548901\n"
     ]
    }
   ],
   "source": [
    "# if P(−z < Z < z) = 0.99 means area between z & -z is .99\n",
    "# this means 2* P(Z<-z) = 0.01  or  P(Z<-z) = 0.005 \n",
    "print (f\"P(−z < Z < z) = 0.99 is : {stats.norm.ppf(.005)}\")"
   ]
  },
  {
   "cell_type": "markdown",
   "metadata": {},
   "source": [
    "# Problem 11"
   ]
  },
  {
   "cell_type": "code",
   "execution_count": 28,
   "metadata": {},
   "outputs": [
    {
     "name": "stdout",
     "output_type": "stream",
     "text": [
      "the probability that a current measurement will exceed 13 mA is: 0.06680720126885809\n",
      " the probability that a current measurement is between 9 and 11mA: 0.38292492254802624\n",
      "the measurement which has p = 0.98 is: 14.107497821263646\n"
     ]
    }
   ],
   "source": [
    "def z_value (x,mu, std):\n",
    "    return (x-mu)/std\n",
    "print(f\"the probability that a current measurement will exceed 13 mA is: {1-stats.norm.cdf(z_value(13,10,4**1/2))}\")\n",
    "print(f\" the probability that a current measurement is between 9 and 11mA: {stats.norm.cdf(z_value(11,10,4**1/2))-stats.norm.cdf(z_value(9,10,4**1/2))}\")\n",
    "print(f\"the measurement which has p = 0.98 is: {(stats.norm.ppf(0.98)*4**1/2)+10}\")"
   ]
  },
  {
   "cell_type": "markdown",
   "metadata": {},
   "source": [
    "# Problem 12"
   ]
  },
  {
   "cell_type": "code",
   "execution_count": 43,
   "metadata": {},
   "outputs": [
    {
     "name": "stdout",
     "output_type": "stream",
     "text": [
      "the proportions of shaft at specifications 0.2500 ∓ 0.0015 inch.: 0.91924122831152\n",
      "the proportions of shaft at specifications 0.2500 ∓ 0.0015 inch.: 0.9973002039367398\n",
      "when the diameter of shaft is centred and brought to mean of .2500, the proportion of the shaft confirming to specifications increases \n"
     ]
    }
   ],
   "source": [
    "def z_value (x,mu, std):\n",
    "    return (x-mu)/std\n",
    "print(f\"the proportions of shaft at specifications 0.2500 ∓ 0.0015 inch.: {stats.norm.cdf(0.2500+.0015,.2508,.0005)-stats.norm.cdf(0.2500-.0015,.2508,.0005)}\")\n",
    "\n",
    "print(f\"the proportions of shaft at specifications 0.2500 ∓ 0.0015 inch.: {stats.norm.cdf(0.2500+.0015,.2500,.0005)-stats.norm.cdf(0.2500-.0015,.2500,.0005)}\")\n",
    "\n",
    "print('when the diameter of shaft is centred and brought to mean of .2500, the proportion of the shaft confirming to specifications increases ')"
   ]
  },
  {
   "cell_type": "code",
   "execution_count": null,
   "metadata": {},
   "outputs": [],
   "source": []
  }
 ],
 "metadata": {
  "kernelspec": {
   "display_name": "Python 3",
   "language": "python",
   "name": "python3"
  },
  "language_info": {
   "codemirror_mode": {
    "name": "ipython",
    "version": 3
   },
   "file_extension": ".py",
   "mimetype": "text/x-python",
   "name": "python",
   "nbconvert_exporter": "python",
   "pygments_lexer": "ipython3",
   "version": "3.7.1"
  }
 },
 "nbformat": 4,
 "nbformat_minor": 2
}
