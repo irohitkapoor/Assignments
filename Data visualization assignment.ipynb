{
 "cells": [
  {
   "cell_type": "code",
   "execution_count": 10,
   "metadata": {},
   "outputs": [],
   "source": [
    "import numpy as np\n",
    "import pandas as pd\n",
    "import seaborn as sns\n",
    "import matplotlib.pyplot as plt"
   ]
  },
  {
   "cell_type": "code",
   "execution_count": 45,
   "metadata": {},
   "outputs": [],
   "source": [
    "%matplotlib inline\n",
    "from plotly.offline import iplot\n",
    "import plotly as py\n",
    "import plotly.tools as tls\n",
    "import cufflinks as cf\n",
    "import plotly.express as px\n",
    "from sklearn.decomposition import PCA"
   ]
  },
  {
   "cell_type": "code",
   "execution_count": 20,
   "metadata": {},
   "outputs": [
    {
     "name": "stdout",
     "output_type": "stream",
     "text": [
      "Requirement already satisfied: plotly in c:\\users\\irohi\\anaconda3\\lib\\site-packages (4.11.0)\n",
      "Requirement already satisfied: six in c:\\users\\irohi\\anaconda3\\lib\\site-packages (from plotly) (1.12.0)\n",
      "Requirement already satisfied: retrying>=1.3.3 in c:\\users\\irohi\\anaconda3\\lib\\site-packages (from plotly) (1.3.3)\n",
      "Requirement already satisfied: cufflinks in c:\\users\\irohi\\anaconda3\\lib\\site-packages (0.17.3)\n",
      "Requirement already satisfied: ipywidgets>=7.0.0 in c:\\users\\irohi\\anaconda3\\lib\\site-packages (from cufflinks) (7.4.2)\n",
      "Requirement already satisfied: six>=1.9.0 in c:\\users\\irohi\\anaconda3\\lib\\site-packages (from cufflinks) (1.12.0)\n",
      "Requirement already satisfied: pandas>=0.19.2 in c:\\users\\irohi\\anaconda3\\lib\\site-packages (from cufflinks) (0.23.4)\n",
      "Requirement already satisfied: ipython>=5.3.0 in c:\\users\\irohi\\anaconda3\\lib\\site-packages (from cufflinks) (7.2.0)\n",
      "Requirement already satisfied: colorlover>=0.2.1 in c:\\users\\irohi\\anaconda3\\lib\\site-packages (from cufflinks) (0.3.0)\n",
      "Requirement already satisfied: setuptools>=34.4.1 in c:\\users\\irohi\\anaconda3\\lib\\site-packages (from cufflinks) (40.6.3)\n",
      "Requirement already satisfied: plotly>=4.1.1 in c:\\users\\irohi\\anaconda3\\lib\\site-packages (from cufflinks) (4.11.0)\n",
      "Requirement already satisfied: numpy>=1.9.2 in c:\\users\\irohi\\anaconda3\\lib\\site-packages (from cufflinks) (1.15.4)\n",
      "Requirement already satisfied: ipykernel>=4.5.1 in c:\\users\\irohi\\anaconda3\\lib\\site-packages (from ipywidgets>=7.0.0->cufflinks) (5.1.0)\n",
      "Requirement already satisfied: widgetsnbextension~=3.4.0 in c:\\users\\irohi\\anaconda3\\lib\\site-packages (from ipywidgets>=7.0.0->cufflinks) (3.4.2)\n",
      "Requirement already satisfied: nbformat>=4.2.0 in c:\\users\\irohi\\anaconda3\\lib\\site-packages (from ipywidgets>=7.0.0->cufflinks) (4.4.0)\n",
      "Requirement already satisfied: traitlets>=4.3.1 in c:\\users\\irohi\\anaconda3\\lib\\site-packages (from ipywidgets>=7.0.0->cufflinks) (4.3.2)\n",
      "Requirement already satisfied: python-dateutil>=2.5.0 in c:\\users\\irohi\\anaconda3\\lib\\site-packages (from pandas>=0.19.2->cufflinks) (2.7.5)\n",
      "Requirement already satisfied: pytz>=2011k in c:\\users\\irohi\\anaconda3\\lib\\site-packages (from pandas>=0.19.2->cufflinks) (2018.7)\n",
      "Requirement already satisfied: colorama; sys_platform == \"win32\" in c:\\users\\irohi\\anaconda3\\lib\\site-packages (from ipython>=5.3.0->cufflinks) (0.4.1)\n",
      "Requirement already satisfied: prompt-toolkit<2.1.0,>=2.0.0 in c:\\users\\irohi\\anaconda3\\lib\\site-packages (from ipython>=5.3.0->cufflinks) (2.0.7)\n",
      "Requirement already satisfied: pickleshare in c:\\users\\irohi\\anaconda3\\lib\\site-packages (from ipython>=5.3.0->cufflinks) (0.7.5)\n",
      "Requirement already satisfied: decorator in c:\\users\\irohi\\anaconda3\\lib\\site-packages (from ipython>=5.3.0->cufflinks) (4.3.0)\n",
      "Requirement already satisfied: backcall in c:\\users\\irohi\\anaconda3\\lib\\site-packages (from ipython>=5.3.0->cufflinks) (0.1.0)\n",
      "Requirement already satisfied: jedi>=0.10 in c:\\users\\irohi\\anaconda3\\lib\\site-packages (from ipython>=5.3.0->cufflinks) (0.13.2)\n",
      "Requirement already satisfied: pygments in c:\\users\\irohi\\anaconda3\\lib\\site-packages (from ipython>=5.3.0->cufflinks) (2.3.1)\n",
      "Requirement already satisfied: retrying>=1.3.3 in c:\\users\\irohi\\anaconda3\\lib\\site-packages (from plotly>=4.1.1->cufflinks) (1.3.3)\n",
      "Requirement already satisfied: tornado>=4.2 in c:\\users\\irohi\\anaconda3\\lib\\site-packages (from ipykernel>=4.5.1->ipywidgets>=7.0.0->cufflinks) (5.1.1)\n",
      "Requirement already satisfied: jupyter-client in c:\\users\\irohi\\anaconda3\\lib\\site-packages (from ipykernel>=4.5.1->ipywidgets>=7.0.0->cufflinks) (5.2.4)\n",
      "Requirement already satisfied: notebook>=4.4.1 in c:\\users\\irohi\\anaconda3\\lib\\site-packages (from widgetsnbextension~=3.4.0->ipywidgets>=7.0.0->cufflinks) (5.7.4)\n",
      "Requirement already satisfied: ipython-genutils in c:\\users\\irohi\\anaconda3\\lib\\site-packages (from nbformat>=4.2.0->ipywidgets>=7.0.0->cufflinks) (0.2.0)\n",
      "Requirement already satisfied: jupyter-core in c:\\users\\irohi\\anaconda3\\lib\\site-packages (from nbformat>=4.2.0->ipywidgets>=7.0.0->cufflinks) (4.4.0)\n",
      "Requirement already satisfied: jsonschema!=2.5.0,>=2.4 in c:\\users\\irohi\\anaconda3\\lib\\site-packages (from nbformat>=4.2.0->ipywidgets>=7.0.0->cufflinks) (2.6.0)\n",
      "Requirement already satisfied: wcwidth in c:\\users\\irohi\\anaconda3\\lib\\site-packages (from prompt-toolkit<2.1.0,>=2.0.0->ipython>=5.3.0->cufflinks) (0.1.7)\n",
      "Requirement already satisfied: parso>=0.3.0 in c:\\users\\irohi\\anaconda3\\lib\\site-packages (from jedi>=0.10->ipython>=5.3.0->cufflinks) (0.3.1)\n",
      "Requirement already satisfied: pyzmq>=13 in c:\\users\\irohi\\anaconda3\\lib\\site-packages (from jupyter-client->ipykernel>=4.5.1->ipywidgets>=7.0.0->cufflinks) (17.1.2)\n",
      "Requirement already satisfied: Send2Trash in c:\\users\\irohi\\anaconda3\\lib\\site-packages (from notebook>=4.4.1->widgetsnbextension~=3.4.0->ipywidgets>=7.0.0->cufflinks) (1.5.0)\n",
      "Requirement already satisfied: terminado>=0.8.1 in c:\\users\\irohi\\anaconda3\\lib\\site-packages (from notebook>=4.4.1->widgetsnbextension~=3.4.0->ipywidgets>=7.0.0->cufflinks) (0.8.1)\n",
      "Requirement already satisfied: nbconvert in c:\\users\\irohi\\anaconda3\\lib\\site-packages (from notebook>=4.4.1->widgetsnbextension~=3.4.0->ipywidgets>=7.0.0->cufflinks) (5.4.0)\n",
      "Requirement already satisfied: jinja2 in c:\\users\\irohi\\anaconda3\\lib\\site-packages (from notebook>=4.4.1->widgetsnbextension~=3.4.0->ipywidgets>=7.0.0->cufflinks) (2.10)\n",
      "Requirement already satisfied: prometheus-client in c:\\users\\irohi\\anaconda3\\lib\\site-packages (from notebook>=4.4.1->widgetsnbextension~=3.4.0->ipywidgets>=7.0.0->cufflinks) (0.5.0)\n",
      "Requirement already satisfied: mistune>=0.8.1 in c:\\users\\irohi\\anaconda3\\lib\\site-packages (from nbconvert->notebook>=4.4.1->widgetsnbextension~=3.4.0->ipywidgets>=7.0.0->cufflinks) (0.8.4)\n",
      "Requirement already satisfied: entrypoints>=0.2.2 in c:\\users\\irohi\\anaconda3\\lib\\site-packages (from nbconvert->notebook>=4.4.1->widgetsnbextension~=3.4.0->ipywidgets>=7.0.0->cufflinks) (0.2.3)\n",
      "Requirement already satisfied: bleach in c:\\users\\irohi\\anaconda3\\lib\\site-packages (from nbconvert->notebook>=4.4.1->widgetsnbextension~=3.4.0->ipywidgets>=7.0.0->cufflinks) (3.0.2)\n",
      "Requirement already satisfied: pandocfilters>=1.4.1 in c:\\users\\irohi\\anaconda3\\lib\\site-packages (from nbconvert->notebook>=4.4.1->widgetsnbextension~=3.4.0->ipywidgets>=7.0.0->cufflinks) (1.4.2)\n",
      "Requirement already satisfied: testpath in c:\\users\\irohi\\anaconda3\\lib\\site-packages (from nbconvert->notebook>=4.4.1->widgetsnbextension~=3.4.0->ipywidgets>=7.0.0->cufflinks) (0.4.2)\n",
      "Requirement already satisfied: defusedxml in c:\\users\\irohi\\anaconda3\\lib\\site-packages (from nbconvert->notebook>=4.4.1->widgetsnbextension~=3.4.0->ipywidgets>=7.0.0->cufflinks) (0.5.0)\n",
      "Requirement already satisfied: MarkupSafe>=0.23 in c:\\users\\irohi\\anaconda3\\lib\\site-packages (from jinja2->notebook>=4.4.1->widgetsnbextension~=3.4.0->ipywidgets>=7.0.0->cufflinks) (1.1.0)\n",
      "Requirement already satisfied: webencodings in c:\\users\\irohi\\anaconda3\\lib\\site-packages (from bleach->nbconvert->notebook>=4.4.1->widgetsnbextension~=3.4.0->ipywidgets>=7.0.0->cufflinks) (0.5.1)\n"
     ]
    }
   ],
   "source": [
    "!pip install plotly\n",
    "!pip install cufflinks"
   ]
  },
  {
   "cell_type": "code",
   "execution_count": 21,
   "metadata": {
    "scrolled": true
   },
   "outputs": [
    {
     "name": "stdout",
     "output_type": "stream",
     "text": [
      "Collecting mpl_toolkits\n"
     ]
    },
    {
     "name": "stderr",
     "output_type": "stream",
     "text": [
      "  Could not find a version that satisfies the requirement mpl_toolkits (from versions: )\n",
      "No matching distribution found for mpl_toolkits\n"
     ]
    }
   ],
   "source": [
    "!pip install mpl_toolkits"
   ]
  },
  {
   "cell_type": "code",
   "execution_count": 22,
   "metadata": {},
   "outputs": [
    {
     "data": {
      "text/html": [
       "        <script type=\"text/javascript\">\n",
       "        window.PlotlyConfig = {MathJaxConfig: 'local'};\n",
       "        if (window.MathJax) {MathJax.Hub.Config({SVG: {font: \"STIX-Web\"}});}\n",
       "        if (typeof require !== 'undefined') {\n",
       "        require.undef(\"plotly\");\n",
       "        requirejs.config({\n",
       "            paths: {\n",
       "                'plotly': ['https://cdn.plot.ly/plotly-latest.min']\n",
       "            }\n",
       "        });\n",
       "        require(['plotly'], function(Plotly) {\n",
       "            window._Plotly = Plotly;\n",
       "        });\n",
       "        }\n",
       "        </script>\n",
       "        "
      ]
     },
     "metadata": {},
     "output_type": "display_data"
    }
   ],
   "source": [
    "py.offline.init_notebook_mode(connected=True)"
   ]
  },
  {
   "cell_type": "code",
   "execution_count": 23,
   "metadata": {},
   "outputs": [
    {
     "data": {
      "text/html": [
       "        <script type=\"text/javascript\">\n",
       "        window.PlotlyConfig = {MathJaxConfig: 'local'};\n",
       "        if (window.MathJax) {MathJax.Hub.Config({SVG: {font: \"STIX-Web\"}});}\n",
       "        if (typeof require !== 'undefined') {\n",
       "        require.undef(\"plotly\");\n",
       "        requirejs.config({\n",
       "            paths: {\n",
       "                'plotly': ['https://cdn.plot.ly/plotly-latest.min']\n",
       "            }\n",
       "        });\n",
       "        require(['plotly'], function(Plotly) {\n",
       "            window._Plotly = Plotly;\n",
       "        });\n",
       "        }\n",
       "        </script>\n",
       "        "
      ]
     },
     "metadata": {},
     "output_type": "display_data"
    }
   ],
   "source": [
    "cf.go_offline()"
   ]
  },
  {
   "cell_type": "code",
   "execution_count": 2,
   "metadata": {},
   "outputs": [
    {
     "data": {
      "text/html": [
       "<div>\n",
       "<style scoped>\n",
       "    .dataframe tbody tr th:only-of-type {\n",
       "        vertical-align: middle;\n",
       "    }\n",
       "\n",
       "    .dataframe tbody tr th {\n",
       "        vertical-align: top;\n",
       "    }\n",
       "\n",
       "    .dataframe thead th {\n",
       "        text-align: right;\n",
       "    }\n",
       "</style>\n",
       "<table border=\"1\" class=\"dataframe\">\n",
       "  <thead>\n",
       "    <tr style=\"text-align: right;\">\n",
       "      <th></th>\n",
       "      <th>sepal_length</th>\n",
       "      <th>sepal_width</th>\n",
       "      <th>petal_length</th>\n",
       "      <th>petal_width</th>\n",
       "      <th>species</th>\n",
       "    </tr>\n",
       "  </thead>\n",
       "  <tbody>\n",
       "    <tr>\n",
       "      <th>0</th>\n",
       "      <td>5.1</td>\n",
       "      <td>3.5</td>\n",
       "      <td>1.4</td>\n",
       "      <td>0.2</td>\n",
       "      <td>setosa</td>\n",
       "    </tr>\n",
       "    <tr>\n",
       "      <th>1</th>\n",
       "      <td>4.9</td>\n",
       "      <td>3.0</td>\n",
       "      <td>1.4</td>\n",
       "      <td>0.2</td>\n",
       "      <td>setosa</td>\n",
       "    </tr>\n",
       "    <tr>\n",
       "      <th>2</th>\n",
       "      <td>4.7</td>\n",
       "      <td>3.2</td>\n",
       "      <td>1.3</td>\n",
       "      <td>0.2</td>\n",
       "      <td>setosa</td>\n",
       "    </tr>\n",
       "    <tr>\n",
       "      <th>3</th>\n",
       "      <td>4.6</td>\n",
       "      <td>3.1</td>\n",
       "      <td>1.5</td>\n",
       "      <td>0.2</td>\n",
       "      <td>setosa</td>\n",
       "    </tr>\n",
       "    <tr>\n",
       "      <th>4</th>\n",
       "      <td>5.0</td>\n",
       "      <td>3.6</td>\n",
       "      <td>1.4</td>\n",
       "      <td>0.2</td>\n",
       "      <td>setosa</td>\n",
       "    </tr>\n",
       "  </tbody>\n",
       "</table>\n",
       "</div>"
      ],
      "text/plain": [
       "   sepal_length  sepal_width  petal_length  petal_width species\n",
       "0           5.1          3.5           1.4          0.2  setosa\n",
       "1           4.9          3.0           1.4          0.2  setosa\n",
       "2           4.7          3.2           1.3          0.2  setosa\n",
       "3           4.6          3.1           1.5          0.2  setosa\n",
       "4           5.0          3.6           1.4          0.2  setosa"
      ]
     },
     "execution_count": 2,
     "metadata": {},
     "output_type": "execute_result"
    }
   ],
   "source": [
    "iris = sns.load_dataset('iris')\n",
    "iris.head()"
   ]
  },
  {
   "cell_type": "code",
   "execution_count": 43,
   "metadata": {},
   "outputs": [],
   "source": [
    "X = iris[['sepal_length', 'sepal_width', 'petal_length', 'petal_width']]"
   ]
  },
  {
   "cell_type": "code",
   "execution_count": 60,
   "metadata": {},
   "outputs": [
    {
     "data": {
      "text/html": [
       "<div>\n",
       "<style scoped>\n",
       "    .dataframe tbody tr th:only-of-type {\n",
       "        vertical-align: middle;\n",
       "    }\n",
       "\n",
       "    .dataframe tbody tr th {\n",
       "        vertical-align: top;\n",
       "    }\n",
       "\n",
       "    .dataframe thead th {\n",
       "        text-align: right;\n",
       "    }\n",
       "</style>\n",
       "<table border=\"1\" class=\"dataframe\">\n",
       "  <thead>\n",
       "    <tr style=\"text-align: right;\">\n",
       "      <th></th>\n",
       "      <th>0</th>\n",
       "      <th>1</th>\n",
       "      <th>2</th>\n",
       "    </tr>\n",
       "  </thead>\n",
       "  <tbody>\n",
       "    <tr>\n",
       "      <th>0</th>\n",
       "      <td>-2.684126</td>\n",
       "      <td>0.319397</td>\n",
       "      <td>-0.027915</td>\n",
       "    </tr>\n",
       "    <tr>\n",
       "      <th>1</th>\n",
       "      <td>-2.714142</td>\n",
       "      <td>-0.177001</td>\n",
       "      <td>-0.210464</td>\n",
       "    </tr>\n",
       "    <tr>\n",
       "      <th>2</th>\n",
       "      <td>-2.888991</td>\n",
       "      <td>-0.144949</td>\n",
       "      <td>0.017900</td>\n",
       "    </tr>\n",
       "    <tr>\n",
       "      <th>3</th>\n",
       "      <td>-2.745343</td>\n",
       "      <td>-0.318299</td>\n",
       "      <td>0.031559</td>\n",
       "    </tr>\n",
       "    <tr>\n",
       "      <th>4</th>\n",
       "      <td>-2.728717</td>\n",
       "      <td>0.326755</td>\n",
       "      <td>0.090079</td>\n",
       "    </tr>\n",
       "  </tbody>\n",
       "</table>\n",
       "</div>"
      ],
      "text/plain": [
       "          0         1         2\n",
       "0 -2.684126  0.319397 -0.027915\n",
       "1 -2.714142 -0.177001 -0.210464\n",
       "2 -2.888991 -0.144949  0.017900\n",
       "3 -2.745343 -0.318299  0.031559\n",
       "4 -2.728717  0.326755  0.090079"
      ]
     },
     "execution_count": 60,
     "metadata": {},
     "output_type": "execute_result"
    }
   ],
   "source": [
    " \n",
    "transformed = pd.DataFrame(PCA(n_components=3).fit_transform(X))\n",
    "transformed.head()\n"
   ]
  },
  {
   "cell_type": "code",
   "execution_count": 64,
   "metadata": {},
   "outputs": [
    {
     "data": {
      "application/vnd.plotly.v1+json": {
       "config": {
        "linkText": "Export to plot.ly",
        "plotlyServerURL": "https://plot.ly",
        "showLink": true
       },
       "data": [
        {
         "colorscale": [
          [
           0,
           "rgb(255, 153, 51)"
          ],
          [
           0.1111111111111111,
           "rgb(55, 128, 191)"
          ],
          [
           0.2222222222222222,
           "rgb(50, 171, 96)"
          ],
          [
           0.3333333333333333,
           "rgb(128, 0, 128)"
          ],
          [
           0.4444444444444444,
           "rgb(219, 64, 82)"
          ],
          [
           0.5555555555555556,
           "rgb(0, 128, 128)"
          ],
          [
           0.6666666666666666,
           "rgb(255, 255, 51)"
          ],
          [
           0.7777777777777778,
           "rgb(128, 128, 0)"
          ],
          [
           0.8888888888888888,
           "rgb(251, 128, 114)"
          ],
          [
           1,
           "rgb(128, 177, 211)"
          ]
         ],
         "type": "surface",
         "x": [
          0,
          1,
          2,
          3,
          4,
          5,
          6,
          7,
          8,
          9,
          10,
          11,
          12,
          13,
          14,
          15,
          16,
          17,
          18,
          19,
          20,
          21,
          22,
          23,
          24,
          25,
          26,
          27,
          28,
          29,
          30,
          31,
          32,
          33,
          34,
          35,
          36,
          37,
          38,
          39,
          40,
          41,
          42,
          43,
          44,
          45,
          46,
          47,
          48,
          49,
          50,
          51,
          52,
          53,
          54,
          55,
          56,
          57,
          58,
          59,
          60,
          61,
          62,
          63,
          64,
          65,
          66,
          67,
          68,
          69,
          70,
          71,
          72,
          73,
          74,
          75,
          76,
          77,
          78,
          79,
          80,
          81,
          82,
          83,
          84,
          85,
          86,
          87,
          88,
          89,
          90,
          91,
          92,
          93,
          94,
          95,
          96,
          97,
          98,
          99,
          100,
          101,
          102,
          103,
          104,
          105,
          106,
          107,
          108,
          109,
          110,
          111,
          112,
          113,
          114,
          115,
          116,
          117,
          118,
          119,
          120,
          121,
          122,
          123,
          124,
          125,
          126,
          127,
          128,
          129,
          130,
          131,
          132,
          133,
          134,
          135,
          136,
          137,
          138,
          139,
          140,
          141,
          142,
          143,
          144,
          145,
          146,
          147,
          148,
          149
         ],
         "y": [
          0,
          1,
          2
         ],
         "z": [
          [
           -2.68412562596953,
           -2.7141416872943243,
           -2.888990569059294,
           -2.745342855641407,
           -2.7287165365545265,
           -2.2808596328444897,
           -2.8205377507406055,
           -2.6261449731466304,
           -2.88638273178055,
           -2.672755797820951,
           -2.506947090651853,
           -2.6127552309087196,
           -2.7861092661880145,
           -3.2238037438656484,
           -2.6447503899420273,
           -2.38603903353113,
           -2.6235278752244233,
           -2.6482967062543783,
           -2.199820323617578,
           -2.587986399878765,
           -2.3102562152425157,
           -2.5437052287571533,
           -3.215939415648608,
           -2.3027331822262043,
           -2.3557540491237696,
           -2.506668906925819,
           -2.4688200731213366,
           -2.5623199061960134,
           -2.63953471538454,
           -2.6319893872743427,
           -2.587398476689349,
           -2.4099324970021723,
           -2.648862334349909,
           -2.598736749100584,
           -2.636926878105796,
           -2.8662416521186667,
           -2.6252380498503696,
           -2.8006841154482185,
           -2.9805020437819905,
           -2.590006313968093,
           -2.7701024260278984,
           -2.8493687050431005,
           -2.9974065465949042,
           -2.405614485097483,
           -2.2094892377836763,
           -2.7144514267577047,
           -2.5381482589989366,
           -2.839462167642847,
           -2.5430857498303903,
           -2.7033597823351565,
           1.2848256888583518,
           0.9324885323123195,
           1.4643023219913947,
           0.18331771995837262,
           1.0881032577116667,
           0.6416690842580797,
           1.0950606626324482,
           -0.7491226698296545,
           1.0441318260534362,
           -0.008745404082893864,
           -0.5078408838353238,
           0.5116985574475992,
           0.2649765081120478,
           0.9849345104708914,
           -0.17392537168176583,
           0.9278607809442483,
           0.660283761696939,
           0.23610499331767332,
           0.9447337280198146,
           0.04522697629870183,
           1.1162831773500514,
           0.35788841799730875,
           1.2981838753589148,
           0.9217289224470383,
           0.7148533259114127,
           0.9001743731721681,
           1.332024436722089,
           1.5578021550660712,
           0.813290649817543,
           -0.3055837780243072,
           -0.06812649206836142,
           -0.18962247237849966,
           0.1364287115580167,
           1.3800264359155126,
           0.5880064433398655,
           0.8068583125004142,
           1.2206908824443536,
           0.8150952357666008,
           0.24595767988669426,
           0.16641321714545884,
           0.46480028840378107,
           0.8908151984694508,
           0.2305480235594572,
           -0.7045317592446613,
           0.35698149470104884,
           0.3319344799450602,
           0.3762156510666723,
           0.6425760075543393,
           -0.9064698649488335,
           0.2990008418781451,
           2.5311927278036284,
           1.415235876703904,
           2.6166760159956906,
           1.9715310530434367,
           2.3500059200446404,
           3.397038736053258,
           0.5212322439097755,
           2.9325870689936884,
           2.3212288165733783,
           2.9167509667860725,
           1.661774153636532,
           1.8034019529650918,
           2.165591796080146,
           1.346163579458453,
           1.5859282238732224,
           1.9044563747934276,
           1.9496890593990697,
           3.487055364290279,
           3.795645422072882,
           1.3007917126376582,
           2.427817913066046,
           1.1990011054655623,
           3.499920038924537,
           1.3887661316914663,
           2.275430503872206,
           2.6140904738108315,
           1.258508160511489,
           1.2911320591150222,
           2.1236087227738953,
           2.3880030160034678,
           2.84167277810387,
           3.2306736614320926,
           2.1594376424890505,
           1.4441612423295107,
           1.7812948100451131,
           3.076499931687187,
           2.1442433143020825,
           1.9050981488140764,
           1.1693263393415014,
           2.107611143257243,
           2.3141547052356,
           1.9222678009026013,
           1.415235876703904,
           2.563013375077477,
           2.418746182732826,
           1.9441097945469685,
           1.527166614814518,
           1.7643457170444299,
           1.9009416142184243,
           1.3901888619479152
          ],
          [
           0.3193972465851007,
           -0.17700122506477922,
           -0.1449494260855568,
           -0.3182989792519156,
           0.3267545129349202,
           0.741330449062915,
           -0.08946138452856839,
           0.16338495969832909,
           -0.5783117541867032,
           -0.11377424587411636,
           0.645068898648574,
           0.01472993916137492,
           -0.23511200020171785,
           -0.5113945870063814,
           1.178764636437575,
           1.3380623304006523,
           0.8106795141812576,
           0.31184914459335505,
           0.872839038962211,
           0.5135603087492772,
           0.3913459356538945,
           0.43299606327902856,
           0.13346806953852616,
           0.0987088548140999,
           -0.03728185967738211,
           -0.14601688049526718,
           0.13095148943525067,
           0.3677188574342002,
           0.3120399802352832,
           -0.19696122492431403,
           -0.20431849127413296,
           0.41092426422957307,
           0.8133638202969622,
           1.0931457594493568,
           -0.1213223478658627,
           0.06936447158008106,
           0.5993700213794237,
           0.2686437377979827,
           -0.48795834442861485,
           0.229043836827013,
           0.26352753374425686,
           -0.9409605736411959,
           -0.3419260574716094,
           0.18887142893026074,
           0.4366631416391881,
           -0.25020820418521056,
           0.5037711444614379,
           -0.2279455694938272,
           0.5794100215198897,
           0.10770608249941206,
           0.6851604704673085,
           0.31833363826262895,
           0.5042628153092041,
           -0.8279590118206317,
           0.07459067519771635,
           -0.41824687156867846,
           0.283468270061529,
           -1.0048909611818946,
           0.2283618997883957,
           -0.7230819050048337,
           -1.2659711905263926,
           -0.10398123549904015,
           -0.5500364636804741,
           -0.12481785412635714,
           -0.25485420870258896,
           0.4671794944415105,
           -0.35296966572385013,
           -0.333610766824915,
           -0.543145550779766,
           -0.5838343774718638,
           -0.08461685219478786,
           -0.06892503165601366,
           -0.32778730833391706,
           -0.18273779362136716,
           0.1490559443697849,
           0.32850447383432335,
           0.24444087601634354,
           0.26749544731025476,
           -0.163350300687616,
           -0.36826218975458747,
           -0.7051721317994649,
           -0.6802867635281329,
           -0.3140324382492363,
           -0.4209542873138816,
           -0.484287419981218,
           0.19418231471315092,
           0.4076195936110072,
           -0.37203705990950137,
           -0.26852439662201455,
           -0.681926724863626,
           -0.6707115445117199,
           -0.034464444368268614,
           -0.4043858480073247,
           -1.0122482275317135,
           -0.5049100933371082,
           -0.21265468378116947,
           -0.2932189292514186,
           0.017738190112416504,
           -0.7560933665990134,
           -0.3488978064503355,
           -0.009849109498801988,
           -0.5749163475464889,
           0.34390315134173427,
           -0.1797279043522453,
           -0.04026094714253092,
           0.5508366730280553,
           -1.1927587270006446,
           0.3555000029774963,
           -0.24383150231069045,
           0.7827919488152779,
           0.24222840775506704,
           -0.21563761733355524,
           0.21627558507402472,
           -0.776818347344339,
           -0.5396407140267183,
           0.11925069209197268,
           0.04194325966321148,
           1.1757393297134286,
           0.2573229734204793,
           -0.7611496364350627,
           0.37819601261705055,
           -0.6060915277579301,
           0.46067409891189487,
           -0.20439932735215072,
           0.3349906058216772,
           0.5609013551230776,
           -0.17970479472274642,
           -0.11666865117401122,
           -0.20972947667730257,
           0.4646398047087363,
           0.3752691671951031,
           1.3741650867930466,
           -0.21727757866904893,
           -0.14341341045758046,
           -0.49990168107813604,
           0.6880856775711756,
           0.14006420108979,
           0.04930052601303031,
           -0.16499026202310935,
           0.37228787196079755,
           0.18365127916901897,
           0.4092034668160621,
           -0.5749163475464889,
           0.2778626029291946,
           0.30479819785469187,
           0.18753230280060526,
           -0.37531698258048807,
           0.07885885451847585,
           0.11662795851202365,
           -0.28266093799055025
          ],
          [
           -0.027914827589412064,
           -0.21046427237824453,
           0.017900256320890037,
           0.031559373605680875,
           0.09007924055120134,
           0.1686776582091047,
           0.257892158255618,
           -0.021879317886719613,
           0.020759570264780185,
           -0.1976327249881465,
           -0.0753180093791201,
           0.1021502599565899,
           -0.2068444304496446,
           0.061299672457099115,
           -0.15162752361780923,
           0.2777769027031358,
           0.1381832278807195,
           0.026668315612593918,
           -0.12030552339473094,
           0.2136651722247159,
           -0.2394440432449534,
           0.20845723241671507,
           0.2923967507452424,
           0.03912325874288078,
           0.12502108270287876,
           -0.2534200423446576,
           0.09491057609939194,
           -0.07849420513792413,
           -0.1459088957300291,
           0.04077107906717913,
           -0.07722298907343579,
           -0.14552497200513076,
           0.2256691497201196,
           0.15781081295822016,
           -0.14304958178613897,
           -0.16433230665302556,
           -0.2683503756939362,
           0.09369908247980012,
           0.07292704569269255,
           -0.080082303017326,
           0.07724769316110403,
           -0.3492303773059664,
           0.19250921171270977,
           0.2638679455134157,
           0.29874274575510873,
           -0.09767814404562943,
           0.16670563660480456,
           0.08372684903359336,
           -0.01711502424851325,
           -0.0892940084788246,
           -0.40656802546769427,
           -0.018014186646240268,
           -0.3383257649808963,
           -0.17959139187535542,
           -0.30775789623478483,
           0.041076090823955906,
           0.1698102398605752,
           0.012302919237595222,
           -0.4153360847593977,
           0.28114143117640983,
           -0.26981718276885275,
           0.13054775024048623,
           -0.6941468301444192,
           -0.06211440832226113,
           0.09045769072570457,
           -0.31462097583217236,
           0.3280275283785953,
           -0.2711618372510669,
           -0.4995190464851129,
           -0.235002104972056,
           0.4596209913591041,
           -0.2298538876089515,
           -0.3478543522573083,
           -0.2310717777362849,
           -0.321800937244474,
           -0.3162090737115742,
           -0.5217027796644194,
           -0.16492098374358036,
           0.0354245048461602,
           -0.31849158062304705,
           -0.24421381043355456,
           -0.3064205612176584,
           -0.17724276601124433,
           0.01616712752072869,
           0.4444334986398079,
           0.38896306309821077,
           -0.23716700988387585,
           -0.6147208425918222,
           0.18836681164619473,
           -0.06000922585533811,
           -0.02430685571895188,
           -0.009946932894348885,
           -0.22941024143915667,
           -0.10569114890301975,
           0.01661717019826542,
           0.08320429089567657,
           0.0779963510876756,
           -0.20539496698326082,
           -0.01259964755789014,
           0.010581660495570598,
           0.7601654272458954,
           0.2963225273879645,
           -0.11078788321910892,
           0.1084246624634229,
           0.2853895631844415,
           -0.34843755579746744,
           0.5456592956468126,
           -0.4202399357679683,
           -0.34830439493484516,
           0.4233354176825587,
           0.24244018972576922,
           -0.03764816823148238,
           0.03332664184432543,
           0.2819028821184649,
           0.6290293264080108,
           0.4796398196265909,
           0.044186167630122064,
           0.1338948739360983,
           -0.5137677638178045,
           -0.34499503831341816,
           0.21911932430194347,
           0.511855508697001,
           -0.5731822425680028,
           -0.0645227566312683,
           0.2861500911691499,
           -0.20553452435362485,
           0.045847703927250114,
           0.23125646265997052,
           0.15418002392883023,
           -0.44953019194185,
           -0.4988980758707688,
           -0.11454820547541911,
           0.2087631671308379,
           -0.1532338880630901,
           -0.17287518911342004,
           -0.3355922924345407,
           0.7348789367255111,
           0.16218023577073706,
           0.2818358402084805,
           0.027291132141630897,
           0.3226937471730592,
           0.11358659579935698,
           0.2963225273879645,
           0.29256952459674296,
           0.5044826639771802,
           0.1778250906326577,
           -0.12189817186718167,
           0.13048163128784832,
           0.7232515634899174,
           0.36290964808537585
          ]
         ]
        }
       ],
       "layout": {
        "legend": {
         "bgcolor": "#FFFFFF",
         "font": {
          "color": "#4D5663"
         }
        },
        "paper_bgcolor": "#FFFFFF",
        "plot_bgcolor": "#FFFFFF",
        "template": {
         "data": {
          "bar": [
           {
            "error_x": {
             "color": "#2a3f5f"
            },
            "error_y": {
             "color": "#2a3f5f"
            },
            "marker": {
             "line": {
              "color": "#E5ECF6",
              "width": 0.5
             }
            },
            "type": "bar"
           }
          ],
          "barpolar": [
           {
            "marker": {
             "line": {
              "color": "#E5ECF6",
              "width": 0.5
             }
            },
            "type": "barpolar"
           }
          ],
          "carpet": [
           {
            "aaxis": {
             "endlinecolor": "#2a3f5f",
             "gridcolor": "white",
             "linecolor": "white",
             "minorgridcolor": "white",
             "startlinecolor": "#2a3f5f"
            },
            "baxis": {
             "endlinecolor": "#2a3f5f",
             "gridcolor": "white",
             "linecolor": "white",
             "minorgridcolor": "white",
             "startlinecolor": "#2a3f5f"
            },
            "type": "carpet"
           }
          ],
          "choropleth": [
           {
            "colorbar": {
             "outlinewidth": 0,
             "ticks": ""
            },
            "type": "choropleth"
           }
          ],
          "contour": [
           {
            "colorbar": {
             "outlinewidth": 0,
             "ticks": ""
            },
            "colorscale": [
             [
              0,
              "#0d0887"
             ],
             [
              0.1111111111111111,
              "#46039f"
             ],
             [
              0.2222222222222222,
              "#7201a8"
             ],
             [
              0.3333333333333333,
              "#9c179e"
             ],
             [
              0.4444444444444444,
              "#bd3786"
             ],
             [
              0.5555555555555556,
              "#d8576b"
             ],
             [
              0.6666666666666666,
              "#ed7953"
             ],
             [
              0.7777777777777778,
              "#fb9f3a"
             ],
             [
              0.8888888888888888,
              "#fdca26"
             ],
             [
              1,
              "#f0f921"
             ]
            ],
            "type": "contour"
           }
          ],
          "contourcarpet": [
           {
            "colorbar": {
             "outlinewidth": 0,
             "ticks": ""
            },
            "type": "contourcarpet"
           }
          ],
          "heatmap": [
           {
            "colorbar": {
             "outlinewidth": 0,
             "ticks": ""
            },
            "colorscale": [
             [
              0,
              "#0d0887"
             ],
             [
              0.1111111111111111,
              "#46039f"
             ],
             [
              0.2222222222222222,
              "#7201a8"
             ],
             [
              0.3333333333333333,
              "#9c179e"
             ],
             [
              0.4444444444444444,
              "#bd3786"
             ],
             [
              0.5555555555555556,
              "#d8576b"
             ],
             [
              0.6666666666666666,
              "#ed7953"
             ],
             [
              0.7777777777777778,
              "#fb9f3a"
             ],
             [
              0.8888888888888888,
              "#fdca26"
             ],
             [
              1,
              "#f0f921"
             ]
            ],
            "type": "heatmap"
           }
          ],
          "heatmapgl": [
           {
            "colorbar": {
             "outlinewidth": 0,
             "ticks": ""
            },
            "colorscale": [
             [
              0,
              "#0d0887"
             ],
             [
              0.1111111111111111,
              "#46039f"
             ],
             [
              0.2222222222222222,
              "#7201a8"
             ],
             [
              0.3333333333333333,
              "#9c179e"
             ],
             [
              0.4444444444444444,
              "#bd3786"
             ],
             [
              0.5555555555555556,
              "#d8576b"
             ],
             [
              0.6666666666666666,
              "#ed7953"
             ],
             [
              0.7777777777777778,
              "#fb9f3a"
             ],
             [
              0.8888888888888888,
              "#fdca26"
             ],
             [
              1,
              "#f0f921"
             ]
            ],
            "type": "heatmapgl"
           }
          ],
          "histogram": [
           {
            "marker": {
             "colorbar": {
              "outlinewidth": 0,
              "ticks": ""
             }
            },
            "type": "histogram"
           }
          ],
          "histogram2d": [
           {
            "colorbar": {
             "outlinewidth": 0,
             "ticks": ""
            },
            "colorscale": [
             [
              0,
              "#0d0887"
             ],
             [
              0.1111111111111111,
              "#46039f"
             ],
             [
              0.2222222222222222,
              "#7201a8"
             ],
             [
              0.3333333333333333,
              "#9c179e"
             ],
             [
              0.4444444444444444,
              "#bd3786"
             ],
             [
              0.5555555555555556,
              "#d8576b"
             ],
             [
              0.6666666666666666,
              "#ed7953"
             ],
             [
              0.7777777777777778,
              "#fb9f3a"
             ],
             [
              0.8888888888888888,
              "#fdca26"
             ],
             [
              1,
              "#f0f921"
             ]
            ],
            "type": "histogram2d"
           }
          ],
          "histogram2dcontour": [
           {
            "colorbar": {
             "outlinewidth": 0,
             "ticks": ""
            },
            "colorscale": [
             [
              0,
              "#0d0887"
             ],
             [
              0.1111111111111111,
              "#46039f"
             ],
             [
              0.2222222222222222,
              "#7201a8"
             ],
             [
              0.3333333333333333,
              "#9c179e"
             ],
             [
              0.4444444444444444,
              "#bd3786"
             ],
             [
              0.5555555555555556,
              "#d8576b"
             ],
             [
              0.6666666666666666,
              "#ed7953"
             ],
             [
              0.7777777777777778,
              "#fb9f3a"
             ],
             [
              0.8888888888888888,
              "#fdca26"
             ],
             [
              1,
              "#f0f921"
             ]
            ],
            "type": "histogram2dcontour"
           }
          ],
          "mesh3d": [
           {
            "colorbar": {
             "outlinewidth": 0,
             "ticks": ""
            },
            "type": "mesh3d"
           }
          ],
          "parcoords": [
           {
            "line": {
             "colorbar": {
              "outlinewidth": 0,
              "ticks": ""
             }
            },
            "type": "parcoords"
           }
          ],
          "pie": [
           {
            "automargin": true,
            "type": "pie"
           }
          ],
          "scatter": [
           {
            "marker": {
             "colorbar": {
              "outlinewidth": 0,
              "ticks": ""
             }
            },
            "type": "scatter"
           }
          ],
          "scatter3d": [
           {
            "line": {
             "colorbar": {
              "outlinewidth": 0,
              "ticks": ""
             }
            },
            "marker": {
             "colorbar": {
              "outlinewidth": 0,
              "ticks": ""
             }
            },
            "type": "scatter3d"
           }
          ],
          "scattercarpet": [
           {
            "marker": {
             "colorbar": {
              "outlinewidth": 0,
              "ticks": ""
             }
            },
            "type": "scattercarpet"
           }
          ],
          "scattergeo": [
           {
            "marker": {
             "colorbar": {
              "outlinewidth": 0,
              "ticks": ""
             }
            },
            "type": "scattergeo"
           }
          ],
          "scattergl": [
           {
            "marker": {
             "colorbar": {
              "outlinewidth": 0,
              "ticks": ""
             }
            },
            "type": "scattergl"
           }
          ],
          "scattermapbox": [
           {
            "marker": {
             "colorbar": {
              "outlinewidth": 0,
              "ticks": ""
             }
            },
            "type": "scattermapbox"
           }
          ],
          "scatterpolar": [
           {
            "marker": {
             "colorbar": {
              "outlinewidth": 0,
              "ticks": ""
             }
            },
            "type": "scatterpolar"
           }
          ],
          "scatterpolargl": [
           {
            "marker": {
             "colorbar": {
              "outlinewidth": 0,
              "ticks": ""
             }
            },
            "type": "scatterpolargl"
           }
          ],
          "scatterternary": [
           {
            "marker": {
             "colorbar": {
              "outlinewidth": 0,
              "ticks": ""
             }
            },
            "type": "scatterternary"
           }
          ],
          "surface": [
           {
            "colorbar": {
             "outlinewidth": 0,
             "ticks": ""
            },
            "colorscale": [
             [
              0,
              "#0d0887"
             ],
             [
              0.1111111111111111,
              "#46039f"
             ],
             [
              0.2222222222222222,
              "#7201a8"
             ],
             [
              0.3333333333333333,
              "#9c179e"
             ],
             [
              0.4444444444444444,
              "#bd3786"
             ],
             [
              0.5555555555555556,
              "#d8576b"
             ],
             [
              0.6666666666666666,
              "#ed7953"
             ],
             [
              0.7777777777777778,
              "#fb9f3a"
             ],
             [
              0.8888888888888888,
              "#fdca26"
             ],
             [
              1,
              "#f0f921"
             ]
            ],
            "type": "surface"
           }
          ],
          "table": [
           {
            "cells": {
             "fill": {
              "color": "#EBF0F8"
             },
             "line": {
              "color": "white"
             }
            },
            "header": {
             "fill": {
              "color": "#C8D4E3"
             },
             "line": {
              "color": "white"
             }
            },
            "type": "table"
           }
          ]
         },
         "layout": {
          "annotationdefaults": {
           "arrowcolor": "#2a3f5f",
           "arrowhead": 0,
           "arrowwidth": 1
          },
          "coloraxis": {
           "colorbar": {
            "outlinewidth": 0,
            "ticks": ""
           }
          },
          "colorscale": {
           "diverging": [
            [
             0,
             "#8e0152"
            ],
            [
             0.1,
             "#c51b7d"
            ],
            [
             0.2,
             "#de77ae"
            ],
            [
             0.3,
             "#f1b6da"
            ],
            [
             0.4,
             "#fde0ef"
            ],
            [
             0.5,
             "#f7f7f7"
            ],
            [
             0.6,
             "#e6f5d0"
            ],
            [
             0.7,
             "#b8e186"
            ],
            [
             0.8,
             "#7fbc41"
            ],
            [
             0.9,
             "#4d9221"
            ],
            [
             1,
             "#276419"
            ]
           ],
           "sequential": [
            [
             0,
             "#0d0887"
            ],
            [
             0.1111111111111111,
             "#46039f"
            ],
            [
             0.2222222222222222,
             "#7201a8"
            ],
            [
             0.3333333333333333,
             "#9c179e"
            ],
            [
             0.4444444444444444,
             "#bd3786"
            ],
            [
             0.5555555555555556,
             "#d8576b"
            ],
            [
             0.6666666666666666,
             "#ed7953"
            ],
            [
             0.7777777777777778,
             "#fb9f3a"
            ],
            [
             0.8888888888888888,
             "#fdca26"
            ],
            [
             1,
             "#f0f921"
            ]
           ],
           "sequentialminus": [
            [
             0,
             "#0d0887"
            ],
            [
             0.1111111111111111,
             "#46039f"
            ],
            [
             0.2222222222222222,
             "#7201a8"
            ],
            [
             0.3333333333333333,
             "#9c179e"
            ],
            [
             0.4444444444444444,
             "#bd3786"
            ],
            [
             0.5555555555555556,
             "#d8576b"
            ],
            [
             0.6666666666666666,
             "#ed7953"
            ],
            [
             0.7777777777777778,
             "#fb9f3a"
            ],
            [
             0.8888888888888888,
             "#fdca26"
            ],
            [
             1,
             "#f0f921"
            ]
           ]
          },
          "colorway": [
           "#636efa",
           "#EF553B",
           "#00cc96",
           "#ab63fa",
           "#FFA15A",
           "#19d3f3",
           "#FF6692",
           "#B6E880",
           "#FF97FF",
           "#FECB52"
          ],
          "font": {
           "color": "#2a3f5f"
          },
          "geo": {
           "bgcolor": "white",
           "lakecolor": "white",
           "landcolor": "#E5ECF6",
           "showlakes": true,
           "showland": true,
           "subunitcolor": "white"
          },
          "hoverlabel": {
           "align": "left"
          },
          "hovermode": "closest",
          "mapbox": {
           "style": "light"
          },
          "paper_bgcolor": "white",
          "plot_bgcolor": "#E5ECF6",
          "polar": {
           "angularaxis": {
            "gridcolor": "white",
            "linecolor": "white",
            "ticks": ""
           },
           "bgcolor": "#E5ECF6",
           "radialaxis": {
            "gridcolor": "white",
            "linecolor": "white",
            "ticks": ""
           }
          },
          "scene": {
           "xaxis": {
            "backgroundcolor": "#E5ECF6",
            "gridcolor": "white",
            "gridwidth": 2,
            "linecolor": "white",
            "showbackground": true,
            "ticks": "",
            "zerolinecolor": "white"
           },
           "yaxis": {
            "backgroundcolor": "#E5ECF6",
            "gridcolor": "white",
            "gridwidth": 2,
            "linecolor": "white",
            "showbackground": true,
            "ticks": "",
            "zerolinecolor": "white"
           },
           "zaxis": {
            "backgroundcolor": "#E5ECF6",
            "gridcolor": "white",
            "gridwidth": 2,
            "linecolor": "white",
            "showbackground": true,
            "ticks": "",
            "zerolinecolor": "white"
           }
          },
          "shapedefaults": {
           "line": {
            "color": "#2a3f5f"
           }
          },
          "ternary": {
           "aaxis": {
            "gridcolor": "white",
            "linecolor": "white",
            "ticks": ""
           },
           "baxis": {
            "gridcolor": "white",
            "linecolor": "white",
            "ticks": ""
           },
           "bgcolor": "#E5ECF6",
           "caxis": {
            "gridcolor": "white",
            "linecolor": "white",
            "ticks": ""
           }
          },
          "title": {
           "x": 0.05
          },
          "xaxis": {
           "automargin": true,
           "gridcolor": "white",
           "linecolor": "white",
           "ticks": "",
           "title": {
            "standoff": 15
           },
           "zerolinecolor": "white",
           "zerolinewidth": 2
          },
          "yaxis": {
           "automargin": true,
           "gridcolor": "white",
           "linecolor": "white",
           "ticks": "",
           "title": {
            "standoff": 15
           },
           "zerolinecolor": "white",
           "zerolinewidth": 2
          }
         }
        },
        "title": {
         "font": {
          "color": "#4D5663"
         }
        },
        "xaxis": {
         "gridcolor": "#E1E5ED",
         "showgrid": true,
         "tickfont": {
          "color": "#4D5663"
         },
         "title": {
          "font": {
           "color": "#4D5663"
          },
          "text": ""
         },
         "zerolinecolor": "#E1E5ED"
        },
        "yaxis": {
         "gridcolor": "#E1E5ED",
         "showgrid": true,
         "tickfont": {
          "color": "#4D5663"
         },
         "title": {
          "font": {
           "color": "#4D5663"
          },
          "text": ""
         },
         "zerolinecolor": "#E1E5ED"
        }
       }
      },
      "text/html": [
       "<div>                            <div id=\"0190b7e8-c34b-442f-a19c-2db3f4d3175f\" class=\"plotly-graph-div\" style=\"height:525px; width:100%;\"></div>            <script type=\"text/javascript\">                require([\"plotly\"], function(Plotly) {                    window.PLOTLYENV=window.PLOTLYENV || {};\n",
       "                    window.PLOTLYENV.BASE_URL='https://plot.ly';                                    if (document.getElementById(\"0190b7e8-c34b-442f-a19c-2db3f4d3175f\")) {                    Plotly.newPlot(                        \"0190b7e8-c34b-442f-a19c-2db3f4d3175f\",                        [{\"colorscale\": [[0.0, \"rgb(255, 153, 51)\"], [0.1111111111111111, \"rgb(55, 128, 191)\"], [0.2222222222222222, \"rgb(50, 171, 96)\"], [0.3333333333333333, \"rgb(128, 0, 128)\"], [0.4444444444444444, \"rgb(219, 64, 82)\"], [0.5555555555555556, \"rgb(0, 128, 128)\"], [0.6666666666666666, \"rgb(255, 255, 51)\"], [0.7777777777777778, \"rgb(128, 128, 0)\"], [0.8888888888888888, \"rgb(251, 128, 114)\"], [1.0, \"rgb(128, 177, 211)\"]], \"type\": \"surface\", \"x\": [0, 1, 2, 3, 4, 5, 6, 7, 8, 9, 10, 11, 12, 13, 14, 15, 16, 17, 18, 19, 20, 21, 22, 23, 24, 25, 26, 27, 28, 29, 30, 31, 32, 33, 34, 35, 36, 37, 38, 39, 40, 41, 42, 43, 44, 45, 46, 47, 48, 49, 50, 51, 52, 53, 54, 55, 56, 57, 58, 59, 60, 61, 62, 63, 64, 65, 66, 67, 68, 69, 70, 71, 72, 73, 74, 75, 76, 77, 78, 79, 80, 81, 82, 83, 84, 85, 86, 87, 88, 89, 90, 91, 92, 93, 94, 95, 96, 97, 98, 99, 100, 101, 102, 103, 104, 105, 106, 107, 108, 109, 110, 111, 112, 113, 114, 115, 116, 117, 118, 119, 120, 121, 122, 123, 124, 125, 126, 127, 128, 129, 130, 131, 132, 133, 134, 135, 136, 137, 138, 139, 140, 141, 142, 143, 144, 145, 146, 147, 148, 149], \"y\": [0, 1, 2], \"z\": [[-2.68412562596953, -2.7141416872943243, -2.888990569059294, -2.745342855641407, -2.7287165365545265, -2.2808596328444897, -2.8205377507406055, -2.6261449731466304, -2.88638273178055, -2.672755797820951, -2.506947090651853, -2.6127552309087196, -2.7861092661880145, -3.2238037438656484, -2.6447503899420273, -2.38603903353113, -2.6235278752244233, -2.6482967062543783, -2.199820323617578, -2.587986399878765, -2.3102562152425157, -2.5437052287571533, -3.215939415648608, -2.3027331822262043, -2.3557540491237696, -2.506668906925819, -2.4688200731213366, -2.5623199061960134, -2.63953471538454, -2.6319893872743427, -2.587398476689349, -2.4099324970021723, -2.648862334349909, -2.598736749100584, -2.636926878105796, -2.8662416521186667, -2.6252380498503696, -2.8006841154482185, -2.9805020437819905, -2.590006313968093, -2.7701024260278984, -2.8493687050431005, -2.9974065465949042, -2.405614485097483, -2.2094892377836763, -2.7144514267577047, -2.5381482589989366, -2.839462167642847, -2.5430857498303903, -2.7033597823351565, 1.2848256888583518, 0.9324885323123195, 1.4643023219913947, 0.18331771995837262, 1.0881032577116667, 0.6416690842580797, 1.0950606626324482, -0.7491226698296545, 1.0441318260534362, -0.008745404082893864, -0.5078408838353238, 0.5116985574475992, 0.2649765081120478, 0.9849345104708914, -0.17392537168176583, 0.9278607809442483, 0.660283761696939, 0.23610499331767332, 0.9447337280198146, 0.04522697629870183, 1.1162831773500514, 0.35788841799730875, 1.2981838753589148, 0.9217289224470383, 0.7148533259114127, 0.9001743731721681, 1.332024436722089, 1.5578021550660712, 0.813290649817543, -0.3055837780243072, -0.06812649206836142, -0.18962247237849966, 0.1364287115580167, 1.3800264359155126, 0.5880064433398655, 0.8068583125004142, 1.2206908824443536, 0.8150952357666008, 0.24595767988669426, 0.16641321714545884, 0.46480028840378107, 0.8908151984694508, 0.2305480235594572, -0.7045317592446613, 0.35698149470104884, 0.3319344799450602, 0.3762156510666723, 0.6425760075543393, -0.9064698649488335, 0.2990008418781451, 2.5311927278036284, 1.415235876703904, 2.6166760159956906, 1.9715310530434367, 2.3500059200446404, 3.397038736053258, 0.5212322439097755, 2.9325870689936884, 2.3212288165733783, 2.9167509667860725, 1.661774153636532, 1.8034019529650918, 2.165591796080146, 1.346163579458453, 1.5859282238732224, 1.9044563747934276, 1.9496890593990697, 3.487055364290279, 3.795645422072882, 1.3007917126376582, 2.427817913066046, 1.1990011054655623, 3.499920038924537, 1.3887661316914663, 2.275430503872206, 2.6140904738108315, 1.258508160511489, 1.2911320591150222, 2.1236087227738953, 2.3880030160034678, 2.84167277810387, 3.2306736614320926, 2.1594376424890505, 1.4441612423295107, 1.7812948100451131, 3.076499931687187, 2.1442433143020825, 1.9050981488140764, 1.1693263393415014, 2.107611143257243, 2.3141547052356, 1.9222678009026013, 1.415235876703904, 2.563013375077477, 2.418746182732826, 1.9441097945469685, 1.527166614814518, 1.7643457170444299, 1.9009416142184243, 1.3901888619479152], [0.3193972465851007, -0.17700122506477922, -0.1449494260855568, -0.3182989792519156, 0.3267545129349202, 0.741330449062915, -0.08946138452856839, 0.16338495969832909, -0.5783117541867032, -0.11377424587411636, 0.645068898648574, 0.01472993916137492, -0.23511200020171785, -0.5113945870063814, 1.178764636437575, 1.3380623304006523, 0.8106795141812576, 0.31184914459335505, 0.872839038962211, 0.5135603087492772, 0.3913459356538945, 0.43299606327902856, 0.13346806953852616, 0.0987088548140999, -0.03728185967738211, -0.14601688049526718, 0.13095148943525067, 0.3677188574342002, 0.3120399802352832, -0.19696122492431403, -0.20431849127413296, 0.41092426422957307, 0.8133638202969622, 1.0931457594493568, -0.1213223478658627, 0.06936447158008106, 0.5993700213794237, 0.2686437377979827, -0.48795834442861485, 0.229043836827013, 0.26352753374425686, -0.9409605736411959, -0.3419260574716094, 0.18887142893026074, 0.4366631416391881, -0.25020820418521056, 0.5037711444614379, -0.2279455694938272, 0.5794100215198897, 0.10770608249941206, 0.6851604704673085, 0.31833363826262895, 0.5042628153092041, -0.8279590118206317, 0.07459067519771635, -0.41824687156867846, 0.283468270061529, -1.0048909611818946, 0.2283618997883957, -0.7230819050048337, -1.2659711905263926, -0.10398123549904015, -0.5500364636804741, -0.12481785412635714, -0.25485420870258896, 0.4671794944415105, -0.35296966572385013, -0.333610766824915, -0.543145550779766, -0.5838343774718638, -0.08461685219478786, -0.06892503165601366, -0.32778730833391706, -0.18273779362136716, 0.1490559443697849, 0.32850447383432335, 0.24444087601634354, 0.26749544731025476, -0.163350300687616, -0.36826218975458747, -0.7051721317994649, -0.6802867635281329, -0.3140324382492363, -0.4209542873138816, -0.484287419981218, 0.19418231471315092, 0.4076195936110072, -0.37203705990950137, -0.26852439662201455, -0.681926724863626, -0.6707115445117199, -0.034464444368268614, -0.4043858480073247, -1.0122482275317135, -0.5049100933371082, -0.21265468378116947, -0.2932189292514186, 0.017738190112416504, -0.7560933665990134, -0.3488978064503355, -0.009849109498801988, -0.5749163475464889, 0.34390315134173427, -0.1797279043522453, -0.04026094714253092, 0.5508366730280553, -1.1927587270006446, 0.3555000029774963, -0.24383150231069045, 0.7827919488152779, 0.24222840775506704, -0.21563761733355524, 0.21627558507402472, -0.776818347344339, -0.5396407140267183, 0.11925069209197268, 0.04194325966321148, 1.1757393297134286, 0.2573229734204793, -0.7611496364350627, 0.37819601261705055, -0.6060915277579301, 0.46067409891189487, -0.20439932735215072, 0.3349906058216772, 0.5609013551230776, -0.17970479472274642, -0.11666865117401122, -0.20972947667730257, 0.4646398047087363, 0.3752691671951031, 1.3741650867930466, -0.21727757866904893, -0.14341341045758046, -0.49990168107813604, 0.6880856775711756, 0.14006420108979, 0.04930052601303031, -0.16499026202310935, 0.37228787196079755, 0.18365127916901897, 0.4092034668160621, -0.5749163475464889, 0.2778626029291946, 0.30479819785469187, 0.18753230280060526, -0.37531698258048807, 0.07885885451847585, 0.11662795851202365, -0.28266093799055025], [-0.027914827589412064, -0.21046427237824453, 0.017900256320890037, 0.031559373605680875, 0.09007924055120134, 0.1686776582091047, 0.257892158255618, -0.021879317886719613, 0.020759570264780185, -0.1976327249881465, -0.0753180093791201, 0.1021502599565899, -0.2068444304496446, 0.061299672457099115, -0.15162752361780923, 0.2777769027031358, 0.1381832278807195, 0.026668315612593918, -0.12030552339473094, 0.2136651722247159, -0.2394440432449534, 0.20845723241671507, 0.2923967507452424, 0.03912325874288078, 0.12502108270287876, -0.2534200423446576, 0.09491057609939194, -0.07849420513792413, -0.1459088957300291, 0.04077107906717913, -0.07722298907343579, -0.14552497200513076, 0.2256691497201196, 0.15781081295822016, -0.14304958178613897, -0.16433230665302556, -0.2683503756939362, 0.09369908247980012, 0.07292704569269255, -0.080082303017326, 0.07724769316110403, -0.3492303773059664, 0.19250921171270977, 0.2638679455134157, 0.29874274575510873, -0.09767814404562943, 0.16670563660480456, 0.08372684903359336, -0.01711502424851325, -0.0892940084788246, -0.40656802546769427, -0.018014186646240268, -0.3383257649808963, -0.17959139187535542, -0.30775789623478483, 0.041076090823955906, 0.1698102398605752, 0.012302919237595222, -0.4153360847593977, 0.28114143117640983, -0.26981718276885275, 0.13054775024048623, -0.6941468301444192, -0.06211440832226113, 0.09045769072570457, -0.31462097583217236, 0.3280275283785953, -0.2711618372510669, -0.4995190464851129, -0.235002104972056, 0.4596209913591041, -0.2298538876089515, -0.3478543522573083, -0.2310717777362849, -0.321800937244474, -0.3162090737115742, -0.5217027796644194, -0.16492098374358036, 0.0354245048461602, -0.31849158062304705, -0.24421381043355456, -0.3064205612176584, -0.17724276601124433, 0.01616712752072869, 0.4444334986398079, 0.38896306309821077, -0.23716700988387585, -0.6147208425918222, 0.18836681164619473, -0.06000922585533811, -0.02430685571895188, -0.009946932894348885, -0.22941024143915667, -0.10569114890301975, 0.01661717019826542, 0.08320429089567657, 0.0779963510876756, -0.20539496698326082, -0.01259964755789014, 0.010581660495570598, 0.7601654272458954, 0.2963225273879645, -0.11078788321910892, 0.1084246624634229, 0.2853895631844415, -0.34843755579746744, 0.5456592956468126, -0.4202399357679683, -0.34830439493484516, 0.4233354176825587, 0.24244018972576922, -0.03764816823148238, 0.03332664184432543, 0.2819028821184649, 0.6290293264080108, 0.4796398196265909, 0.044186167630122064, 0.1338948739360983, -0.5137677638178045, -0.34499503831341816, 0.21911932430194347, 0.511855508697001, -0.5731822425680028, -0.0645227566312683, 0.2861500911691499, -0.20553452435362485, 0.045847703927250114, 0.23125646265997052, 0.15418002392883023, -0.44953019194185, -0.4988980758707688, -0.11454820547541911, 0.2087631671308379, -0.1532338880630901, -0.17287518911342004, -0.3355922924345407, 0.7348789367255111, 0.16218023577073706, 0.2818358402084805, 0.027291132141630897, 0.3226937471730592, 0.11358659579935698, 0.2963225273879645, 0.29256952459674296, 0.5044826639771802, 0.1778250906326577, -0.12189817186718167, 0.13048163128784832, 0.7232515634899174, 0.36290964808537585]]}],                        {\"legend\": {\"bgcolor\": \"#FFFFFF\", \"font\": {\"color\": \"#4D5663\"}}, \"paper_bgcolor\": \"#FFFFFF\", \"plot_bgcolor\": \"#FFFFFF\", \"template\": {\"data\": {\"bar\": [{\"error_x\": {\"color\": \"#2a3f5f\"}, \"error_y\": {\"color\": \"#2a3f5f\"}, \"marker\": {\"line\": {\"color\": \"#E5ECF6\", \"width\": 0.5}}, \"type\": \"bar\"}], \"barpolar\": [{\"marker\": {\"line\": {\"color\": \"#E5ECF6\", \"width\": 0.5}}, \"type\": \"barpolar\"}], \"carpet\": [{\"aaxis\": {\"endlinecolor\": \"#2a3f5f\", \"gridcolor\": \"white\", \"linecolor\": \"white\", \"minorgridcolor\": \"white\", \"startlinecolor\": \"#2a3f5f\"}, \"baxis\": {\"endlinecolor\": \"#2a3f5f\", \"gridcolor\": \"white\", \"linecolor\": \"white\", \"minorgridcolor\": \"white\", \"startlinecolor\": \"#2a3f5f\"}, \"type\": \"carpet\"}], \"choropleth\": [{\"colorbar\": {\"outlinewidth\": 0, \"ticks\": \"\"}, \"type\": \"choropleth\"}], \"contour\": [{\"colorbar\": {\"outlinewidth\": 0, \"ticks\": \"\"}, \"colorscale\": [[0.0, \"#0d0887\"], [0.1111111111111111, \"#46039f\"], [0.2222222222222222, \"#7201a8\"], [0.3333333333333333, \"#9c179e\"], [0.4444444444444444, \"#bd3786\"], [0.5555555555555556, \"#d8576b\"], [0.6666666666666666, \"#ed7953\"], [0.7777777777777778, \"#fb9f3a\"], [0.8888888888888888, \"#fdca26\"], [1.0, \"#f0f921\"]], \"type\": \"contour\"}], \"contourcarpet\": [{\"colorbar\": {\"outlinewidth\": 0, \"ticks\": \"\"}, \"type\": \"contourcarpet\"}], \"heatmap\": [{\"colorbar\": {\"outlinewidth\": 0, \"ticks\": \"\"}, \"colorscale\": [[0.0, \"#0d0887\"], [0.1111111111111111, \"#46039f\"], [0.2222222222222222, \"#7201a8\"], [0.3333333333333333, \"#9c179e\"], [0.4444444444444444, \"#bd3786\"], [0.5555555555555556, \"#d8576b\"], [0.6666666666666666, \"#ed7953\"], [0.7777777777777778, \"#fb9f3a\"], [0.8888888888888888, \"#fdca26\"], [1.0, \"#f0f921\"]], \"type\": \"heatmap\"}], \"heatmapgl\": [{\"colorbar\": {\"outlinewidth\": 0, \"ticks\": \"\"}, \"colorscale\": [[0.0, \"#0d0887\"], [0.1111111111111111, \"#46039f\"], [0.2222222222222222, \"#7201a8\"], [0.3333333333333333, \"#9c179e\"], [0.4444444444444444, \"#bd3786\"], [0.5555555555555556, \"#d8576b\"], [0.6666666666666666, \"#ed7953\"], [0.7777777777777778, \"#fb9f3a\"], [0.8888888888888888, \"#fdca26\"], [1.0, \"#f0f921\"]], \"type\": \"heatmapgl\"}], \"histogram\": [{\"marker\": {\"colorbar\": {\"outlinewidth\": 0, \"ticks\": \"\"}}, \"type\": \"histogram\"}], \"histogram2d\": [{\"colorbar\": {\"outlinewidth\": 0, \"ticks\": \"\"}, \"colorscale\": [[0.0, \"#0d0887\"], [0.1111111111111111, \"#46039f\"], [0.2222222222222222, \"#7201a8\"], [0.3333333333333333, \"#9c179e\"], [0.4444444444444444, \"#bd3786\"], [0.5555555555555556, \"#d8576b\"], [0.6666666666666666, \"#ed7953\"], [0.7777777777777778, \"#fb9f3a\"], [0.8888888888888888, \"#fdca26\"], [1.0, \"#f0f921\"]], \"type\": \"histogram2d\"}], \"histogram2dcontour\": [{\"colorbar\": {\"outlinewidth\": 0, \"ticks\": \"\"}, \"colorscale\": [[0.0, \"#0d0887\"], [0.1111111111111111, \"#46039f\"], [0.2222222222222222, \"#7201a8\"], [0.3333333333333333, \"#9c179e\"], [0.4444444444444444, \"#bd3786\"], [0.5555555555555556, \"#d8576b\"], [0.6666666666666666, \"#ed7953\"], [0.7777777777777778, \"#fb9f3a\"], [0.8888888888888888, \"#fdca26\"], [1.0, \"#f0f921\"]], \"type\": \"histogram2dcontour\"}], \"mesh3d\": [{\"colorbar\": {\"outlinewidth\": 0, \"ticks\": \"\"}, \"type\": \"mesh3d\"}], \"parcoords\": [{\"line\": {\"colorbar\": {\"outlinewidth\": 0, \"ticks\": \"\"}}, \"type\": \"parcoords\"}], \"pie\": [{\"automargin\": true, \"type\": \"pie\"}], \"scatter\": [{\"marker\": {\"colorbar\": {\"outlinewidth\": 0, \"ticks\": \"\"}}, \"type\": \"scatter\"}], \"scatter3d\": [{\"line\": {\"colorbar\": {\"outlinewidth\": 0, \"ticks\": \"\"}}, \"marker\": {\"colorbar\": {\"outlinewidth\": 0, \"ticks\": \"\"}}, \"type\": \"scatter3d\"}], \"scattercarpet\": [{\"marker\": {\"colorbar\": {\"outlinewidth\": 0, \"ticks\": \"\"}}, \"type\": \"scattercarpet\"}], \"scattergeo\": [{\"marker\": {\"colorbar\": {\"outlinewidth\": 0, \"ticks\": \"\"}}, \"type\": \"scattergeo\"}], \"scattergl\": [{\"marker\": {\"colorbar\": {\"outlinewidth\": 0, \"ticks\": \"\"}}, \"type\": \"scattergl\"}], \"scattermapbox\": [{\"marker\": {\"colorbar\": {\"outlinewidth\": 0, \"ticks\": \"\"}}, \"type\": \"scattermapbox\"}], \"scatterpolar\": [{\"marker\": {\"colorbar\": {\"outlinewidth\": 0, \"ticks\": \"\"}}, \"type\": \"scatterpolar\"}], \"scatterpolargl\": [{\"marker\": {\"colorbar\": {\"outlinewidth\": 0, \"ticks\": \"\"}}, \"type\": \"scatterpolargl\"}], \"scatterternary\": [{\"marker\": {\"colorbar\": {\"outlinewidth\": 0, \"ticks\": \"\"}}, \"type\": \"scatterternary\"}], \"surface\": [{\"colorbar\": {\"outlinewidth\": 0, \"ticks\": \"\"}, \"colorscale\": [[0.0, \"#0d0887\"], [0.1111111111111111, \"#46039f\"], [0.2222222222222222, \"#7201a8\"], [0.3333333333333333, \"#9c179e\"], [0.4444444444444444, \"#bd3786\"], [0.5555555555555556, \"#d8576b\"], [0.6666666666666666, \"#ed7953\"], [0.7777777777777778, \"#fb9f3a\"], [0.8888888888888888, \"#fdca26\"], [1.0, \"#f0f921\"]], \"type\": \"surface\"}], \"table\": [{\"cells\": {\"fill\": {\"color\": \"#EBF0F8\"}, \"line\": {\"color\": \"white\"}}, \"header\": {\"fill\": {\"color\": \"#C8D4E3\"}, \"line\": {\"color\": \"white\"}}, \"type\": \"table\"}]}, \"layout\": {\"annotationdefaults\": {\"arrowcolor\": \"#2a3f5f\", \"arrowhead\": 0, \"arrowwidth\": 1}, \"coloraxis\": {\"colorbar\": {\"outlinewidth\": 0, \"ticks\": \"\"}}, \"colorscale\": {\"diverging\": [[0, \"#8e0152\"], [0.1, \"#c51b7d\"], [0.2, \"#de77ae\"], [0.3, \"#f1b6da\"], [0.4, \"#fde0ef\"], [0.5, \"#f7f7f7\"], [0.6, \"#e6f5d0\"], [0.7, \"#b8e186\"], [0.8, \"#7fbc41\"], [0.9, \"#4d9221\"], [1, \"#276419\"]], \"sequential\": [[0.0, \"#0d0887\"], [0.1111111111111111, \"#46039f\"], [0.2222222222222222, \"#7201a8\"], [0.3333333333333333, \"#9c179e\"], [0.4444444444444444, \"#bd3786\"], [0.5555555555555556, \"#d8576b\"], [0.6666666666666666, \"#ed7953\"], [0.7777777777777778, \"#fb9f3a\"], [0.8888888888888888, \"#fdca26\"], [1.0, \"#f0f921\"]], \"sequentialminus\": [[0.0, \"#0d0887\"], [0.1111111111111111, \"#46039f\"], [0.2222222222222222, \"#7201a8\"], [0.3333333333333333, \"#9c179e\"], [0.4444444444444444, \"#bd3786\"], [0.5555555555555556, \"#d8576b\"], [0.6666666666666666, \"#ed7953\"], [0.7777777777777778, \"#fb9f3a\"], [0.8888888888888888, \"#fdca26\"], [1.0, \"#f0f921\"]]}, \"colorway\": [\"#636efa\", \"#EF553B\", \"#00cc96\", \"#ab63fa\", \"#FFA15A\", \"#19d3f3\", \"#FF6692\", \"#B6E880\", \"#FF97FF\", \"#FECB52\"], \"font\": {\"color\": \"#2a3f5f\"}, \"geo\": {\"bgcolor\": \"white\", \"lakecolor\": \"white\", \"landcolor\": \"#E5ECF6\", \"showlakes\": true, \"showland\": true, \"subunitcolor\": \"white\"}, \"hoverlabel\": {\"align\": \"left\"}, \"hovermode\": \"closest\", \"mapbox\": {\"style\": \"light\"}, \"paper_bgcolor\": \"white\", \"plot_bgcolor\": \"#E5ECF6\", \"polar\": {\"angularaxis\": {\"gridcolor\": \"white\", \"linecolor\": \"white\", \"ticks\": \"\"}, \"bgcolor\": \"#E5ECF6\", \"radialaxis\": {\"gridcolor\": \"white\", \"linecolor\": \"white\", \"ticks\": \"\"}}, \"scene\": {\"xaxis\": {\"backgroundcolor\": \"#E5ECF6\", \"gridcolor\": \"white\", \"gridwidth\": 2, \"linecolor\": \"white\", \"showbackground\": true, \"ticks\": \"\", \"zerolinecolor\": \"white\"}, \"yaxis\": {\"backgroundcolor\": \"#E5ECF6\", \"gridcolor\": \"white\", \"gridwidth\": 2, \"linecolor\": \"white\", \"showbackground\": true, \"ticks\": \"\", \"zerolinecolor\": \"white\"}, \"zaxis\": {\"backgroundcolor\": \"#E5ECF6\", \"gridcolor\": \"white\", \"gridwidth\": 2, \"linecolor\": \"white\", \"showbackground\": true, \"ticks\": \"\", \"zerolinecolor\": \"white\"}}, \"shapedefaults\": {\"line\": {\"color\": \"#2a3f5f\"}}, \"ternary\": {\"aaxis\": {\"gridcolor\": \"white\", \"linecolor\": \"white\", \"ticks\": \"\"}, \"baxis\": {\"gridcolor\": \"white\", \"linecolor\": \"white\", \"ticks\": \"\"}, \"bgcolor\": \"#E5ECF6\", \"caxis\": {\"gridcolor\": \"white\", \"linecolor\": \"white\", \"ticks\": \"\"}}, \"title\": {\"x\": 0.05}, \"xaxis\": {\"automargin\": true, \"gridcolor\": \"white\", \"linecolor\": \"white\", \"ticks\": \"\", \"title\": {\"standoff\": 15}, \"zerolinecolor\": \"white\", \"zerolinewidth\": 2}, \"yaxis\": {\"automargin\": true, \"gridcolor\": \"white\", \"linecolor\": \"white\", \"ticks\": \"\", \"title\": {\"standoff\": 15}, \"zerolinecolor\": \"white\", \"zerolinewidth\": 2}}}, \"title\": {\"font\": {\"color\": \"#4D5663\"}}, \"xaxis\": {\"gridcolor\": \"#E1E5ED\", \"showgrid\": true, \"tickfont\": {\"color\": \"#4D5663\"}, \"title\": {\"font\": {\"color\": \"#4D5663\"}, \"text\": \"\"}, \"zerolinecolor\": \"#E1E5ED\"}, \"yaxis\": {\"gridcolor\": \"#E1E5ED\", \"showgrid\": true, \"tickfont\": {\"color\": \"#4D5663\"}, \"title\": {\"font\": {\"color\": \"#4D5663\"}, \"text\": \"\"}, \"zerolinecolor\": \"#E1E5ED\"}},                        {\"showLink\": true, \"linkText\": \"Export to plot.ly\", \"plotlyServerURL\": \"https://plot.ly\", \"responsive\": true}                    ).then(function(){\n",
       "                            \n",
       "var gd = document.getElementById('0190b7e8-c34b-442f-a19c-2db3f4d3175f');\n",
       "var x = new MutationObserver(function (mutations, observer) {{\n",
       "        var display = window.getComputedStyle(gd).display;\n",
       "        if (!display || display === 'none') {{\n",
       "            console.log([gd, 'removed!']);\n",
       "            Plotly.purge(gd);\n",
       "            observer.disconnect();\n",
       "        }}\n",
       "}});\n",
       "\n",
       "// Listen for the removal of the full notebook cells\n",
       "var notebookContainer = gd.closest('#notebook-container');\n",
       "if (notebookContainer) {{\n",
       "    x.observe(notebookContainer, {childList: true});\n",
       "}}\n",
       "\n",
       "// Listen for the clearing of the current output cell\n",
       "var outputEl = gd.closest('.output');\n",
       "if (outputEl) {{\n",
       "    x.observe(outputEl, {childList: true});\n",
       "}}\n",
       "\n",
       "                        })                };                });            </script>        </div>"
      ]
     },
     "metadata": {},
     "output_type": "display_data"
    }
   ],
   "source": [
    "transformed.iplot(kind = 'surface',colors = {0:'r',1:'b',2:'y'})"
   ]
  },
  {
   "cell_type": "code",
   "execution_count": null,
   "metadata": {},
   "outputs": [],
   "source": []
  }
 ],
 "metadata": {
  "kernelspec": {
   "display_name": "Python 3",
   "language": "python",
   "name": "python3"
  },
  "language_info": {
   "codemirror_mode": {
    "name": "ipython",
    "version": 3
   },
   "file_extension": ".py",
   "mimetype": "text/x-python",
   "name": "python",
   "nbconvert_exporter": "python",
   "pygments_lexer": "ipython3",
   "version": "3.7.1"
  }
 },
 "nbformat": 4,
 "nbformat_minor": 2
}
